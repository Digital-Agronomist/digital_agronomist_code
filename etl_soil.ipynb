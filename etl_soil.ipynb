{
 "cells": [
  {
   "cell_type": "markdown",
   "id": "2e20f891-e8a9-486d-9a45-11f66f2014a9",
   "metadata": {},
   "source": [
    "# ETL SOIL Notebook"
   ]
  },
  {
   "cell_type": "markdown",
   "id": "b6e7b518-98d8-423a-be84-e5ccfb49204d",
   "metadata": {},
   "source": [
    "### Install project's libraries"
   ]
  },
  {
   "cell_type": "code",
   "execution_count": 1,
   "id": "c73530fc-7af5-46a3-9779-9f1c9e0b5623",
   "metadata": {},
   "outputs": [
    {
     "name": "stdout",
     "output_type": "stream",
     "text": [
      "Requirement already satisfied: factor_analyzer==0.5.0 in /home/jroa/.local/lib/python3.11/site-packages (from -r requirements.txt (line 1)) (0.5.0)\n",
      "Requirement already satisfied: matplotlib==3.8.2 in /home/jroa/.local/lib/python3.11/site-packages (from -r requirements.txt (line 2)) (3.8.2)\n",
      "Requirement already satisfied: numpy==1.26.4 in /home/jroa/.local/lib/python3.11/site-packages (from -r requirements.txt (line 3)) (1.26.4)\n",
      "Requirement already satisfied: pandas==2.2.0 in /home/jroa/.local/lib/python3.11/site-packages (from -r requirements.txt (line 4)) (2.2.0)\n",
      "Requirement already satisfied: python-dotenv==1.0.1 in /home/jroa/.local/lib/python3.11/site-packages (from -r requirements.txt (line 5)) (1.0.1)\n",
      "Requirement already satisfied: scikit_learn==1.3.2 in /home/jroa/.local/lib/python3.11/site-packages (from -r requirements.txt (line 6)) (1.3.2)\n",
      "Requirement already satisfied: seaborn==0.13.2 in /home/jroa/.local/lib/python3.11/site-packages (from -r requirements.txt (line 7)) (0.13.2)\n",
      "Requirement already satisfied: SQLAlchemy==2.0.25 in /home/jroa/.local/lib/python3.11/site-packages (from -r requirements.txt (line 8)) (2.0.25)\n",
      "Requirement already satisfied: openpyxl==3.1.2 in /home/jroa/.local/lib/python3.11/site-packages (from -r requirements.txt (line 9)) (3.1.2)\n",
      "Requirement already satisfied: mariadb==1.1.10 in /home/jroa/.local/lib/python3.11/site-packages (from -r requirements.txt (line 10)) (1.1.10)\n",
      "Requirement already satisfied: Pillow in /home/jroa/.conda/envs/new_agronomist/lib/python3.11/site-packages (from -r requirements.txt (line 11)) (10.2.0)\n",
      "Requirement already satisfied: scipy in /home/jroa/.local/lib/python3.11/site-packages (from factor_analyzer==0.5.0->-r requirements.txt (line 1)) (1.12.0)\n",
      "Requirement already satisfied: pre-commit in /home/jroa/.local/lib/python3.11/site-packages (from factor_analyzer==0.5.0->-r requirements.txt (line 1)) (3.6.2)\n",
      "Requirement already satisfied: contourpy>=1.0.1 in /home/jroa/.local/lib/python3.11/site-packages (from matplotlib==3.8.2->-r requirements.txt (line 2)) (1.2.0)\n",
      "Requirement already satisfied: cycler>=0.10 in /home/jroa/.local/lib/python3.11/site-packages (from matplotlib==3.8.2->-r requirements.txt (line 2)) (0.12.1)\n",
      "Requirement already satisfied: fonttools>=4.22.0 in /home/jroa/.local/lib/python3.11/site-packages (from matplotlib==3.8.2->-r requirements.txt (line 2)) (4.47.2)\n",
      "Requirement already satisfied: kiwisolver>=1.3.1 in /home/jroa/.local/lib/python3.11/site-packages (from matplotlib==3.8.2->-r requirements.txt (line 2)) (1.4.5)\n",
      "Requirement already satisfied: packaging>=20.0 in /home/jroa/.conda/envs/new_agronomist/lib/python3.11/site-packages (from matplotlib==3.8.2->-r requirements.txt (line 2)) (23.1)\n",
      "Requirement already satisfied: pyparsing>=2.3.1 in /home/jroa/.local/lib/python3.11/site-packages (from matplotlib==3.8.2->-r requirements.txt (line 2)) (3.1.1)\n",
      "Requirement already satisfied: python-dateutil>=2.7 in /home/jroa/.local/lib/python3.11/site-packages (from matplotlib==3.8.2->-r requirements.txt (line 2)) (2.8.2)\n",
      "Requirement already satisfied: pytz>=2020.1 in /home/jroa/.local/lib/python3.11/site-packages (from pandas==2.2.0->-r requirements.txt (line 4)) (2024.1)\n",
      "Requirement already satisfied: tzdata>=2022.7 in /home/jroa/.local/lib/python3.11/site-packages (from pandas==2.2.0->-r requirements.txt (line 4)) (2024.1)\n",
      "Requirement already satisfied: joblib>=1.1.1 in /home/jroa/.local/lib/python3.11/site-packages (from scikit_learn==1.3.2->-r requirements.txt (line 6)) (1.3.2)\n",
      "Requirement already satisfied: threadpoolctl>=2.0.0 in /home/jroa/.local/lib/python3.11/site-packages (from scikit_learn==1.3.2->-r requirements.txt (line 6)) (3.3.0)\n",
      "Requirement already satisfied: typing-extensions>=4.6.0 in /home/jroa/.local/lib/python3.11/site-packages (from SQLAlchemy==2.0.25->-r requirements.txt (line 8)) (4.9.0)\n",
      "Requirement already satisfied: greenlet!=0.4.17 in /home/jroa/.local/lib/python3.11/site-packages (from SQLAlchemy==2.0.25->-r requirements.txt (line 8)) (3.0.3)\n",
      "Requirement already satisfied: et-xmlfile in /home/jroa/.local/lib/python3.11/site-packages (from openpyxl==3.1.2->-r requirements.txt (line 9)) (1.1.0)\n",
      "Requirement already satisfied: six>=1.5 in /home/jroa/.local/lib/python3.11/site-packages (from python-dateutil>=2.7->matplotlib==3.8.2->-r requirements.txt (line 2)) (1.16.0)\n",
      "Requirement already satisfied: cfgv>=2.0.0 in /home/jroa/.local/lib/python3.11/site-packages (from pre-commit->factor_analyzer==0.5.0->-r requirements.txt (line 1)) (3.4.0)\n",
      "Requirement already satisfied: identify>=1.0.0 in /home/jroa/.local/lib/python3.11/site-packages (from pre-commit->factor_analyzer==0.5.0->-r requirements.txt (line 1)) (2.5.35)\n",
      "Requirement already satisfied: nodeenv>=0.11.1 in /home/jroa/.local/lib/python3.11/site-packages (from pre-commit->factor_analyzer==0.5.0->-r requirements.txt (line 1)) (1.8.0)\n",
      "Requirement already satisfied: pyyaml>=5.1 in /home/jroa/.local/lib/python3.11/site-packages (from pre-commit->factor_analyzer==0.5.0->-r requirements.txt (line 1)) (6.0.1)\n",
      "Requirement already satisfied: virtualenv>=20.10.0 in /home/jroa/.local/lib/python3.11/site-packages (from pre-commit->factor_analyzer==0.5.0->-r requirements.txt (line 1)) (20.25.0)\n",
      "Requirement already satisfied: setuptools in /home/jroa/.local/lib/python3.11/site-packages (from nodeenv>=0.11.1->pre-commit->factor_analyzer==0.5.0->-r requirements.txt (line 1)) (67.8.0)\n",
      "Requirement already satisfied: distlib<1,>=0.3.7 in /home/jroa/.local/lib/python3.11/site-packages (from virtualenv>=20.10.0->pre-commit->factor_analyzer==0.5.0->-r requirements.txt (line 1)) (0.3.8)\n",
      "Requirement already satisfied: filelock<4,>=3.12.2 in /home/jroa/.local/lib/python3.11/site-packages (from virtualenv>=20.10.0->pre-commit->factor_analyzer==0.5.0->-r requirements.txt (line 1)) (3.13.1)\n",
      "Requirement already satisfied: platformdirs<5,>=3.9.1 in /home/jroa/.local/lib/python3.11/site-packages (from virtualenv>=20.10.0->pre-commit->factor_analyzer==0.5.0->-r requirements.txt (line 1)) (4.1.0)\n",
      "Note: you may need to restart the kernel to use updated packages.\n",
      "Requirement already satisfied: pymysql in /home/jroa/.conda/envs/new_agronomist/lib/python3.11/site-packages (1.1.0)\n",
      "Note: you may need to restart the kernel to use updated packages.\n"
     ]
    }
   ],
   "source": [
    "%pwd\n",
    "%pip install -r requirements.txt\n",
    "%pip install pymysql"
   ]
  },
  {
   "cell_type": "markdown",
   "id": "bd21961c-fb29-4edc-8d0d-4326eaa3b603",
   "metadata": {},
   "source": [
    "## Import system and project libraries"
   ]
  },
  {
   "cell_type": "code",
   "execution_count": 2,
   "id": "166747fa-a75f-4355-895a-c91ee543139e",
   "metadata": {},
   "outputs": [
    {
     "data": {
      "text/plain": [
       "True"
      ]
     },
     "execution_count": 2,
     "metadata": {},
     "output_type": "execute_result"
    }
   ],
   "source": [
    "import os\n",
    "from dotenv import load_dotenv\n",
    "load_dotenv()"
   ]
  },
  {
   "cell_type": "code",
   "execution_count": 3,
   "id": "68732532-e5ab-4893-9397-eb8648040594",
   "metadata": {},
   "outputs": [],
   "source": [
    "from sqlalchemy import create_engine\n",
    "from factor_analyzer.factor_analyzer import calculate_kmo\n",
    "from factor_analyzer.factor_analyzer import calculate_bartlett_sphericity\n",
    "\n",
    "import matplotlib.pyplot as plt\n",
    "import numpy as np\n",
    "import pandas as pd\n",
    "import seaborn as sns\n",
    "from sklearn.decomposition import FactorAnalysis\n",
    "from sklearn.preprocessing import StandardScaler\n",
    "from sklearn.decomposition import PCA"
   ]
  },
  {
   "cell_type": "markdown",
   "id": "4530201c-ffea-45df-9337-86a59bfeea9d",
   "metadata": {},
   "source": [
    "## 0. Connect to the database and extract the data"
   ]
  },
  {
   "cell_type": "markdown",
   "id": "1184c217-c495-4ed2-80f6-29dd28860d2b",
   "metadata": {},
   "source": [
    "### Database connection"
   ]
  },
  {
   "cell_type": "code",
   "execution_count": null,
   "id": "f18d7fae-189d-4544-bf19-36ec0f055cc6",
   "metadata": {},
   "outputs": [],
   "source": [
    "# Establish the connection\n",
    "# sqlalchemy uses a standard URL for connections: \n",
    "# 'mysql+pymysql://<user>:<password>@<host>/<dbname>'\n",
    "DATABASE_CON = os.getenv('DATABASE_CON')\n",
    "# Create a SQLAlchemy engine\n",
    "engine = create_engine(DATABASE_CON)"
   ]
  },
  {
   "cell_type": "markdown",
   "id": "65eb6c4e-39c9-4e21-a2c4-f3f10ddb1e70",
   "metadata": {},
   "source": [
    "### Query to extract the soil_ICP dataframe"
   ]
  },
  {
   "cell_type": "code",
   "execution_count": 4,
   "id": "c198c432-8619-401e-99ed-49ac4b48bd32",
   "metadata": {},
   "outputs": [],
   "source": [
    "soil_icp_df = pd.read_sql_query(\"\"\"\n",
    "                        -- This query extracts the information necessary to shape the soil_icp dataframe\n",
    "                        \n",
    "                        SELECT sr.id, s.name, sr.sample, sr.rep,\n",
    "                            MAX(CASE WHEN n.symbol = 'B' THEN rn.value ELSE 0 END) AS B,\n",
    "                            MAX(CASE WHEN n.symbol = 'Mg' THEN rn.value ELSE 0 END) AS Mg,\n",
    "                            MAX(CASE WHEN n.symbol = 'P' THEN rn.value ELSE 0 END) AS P,\n",
    "                            MAX(CASE WHEN n.symbol = 'S' THEN rn.value ELSE 0 END) AS S,\n",
    "                            MAX(CASE WHEN n.symbol = 'K' THEN rn.value ELSE 0 END) AS K,\n",
    "                            MAX(CASE WHEN n.symbol = 'Ca' THEN rn.value ELSE 0 END) AS Ca,\n",
    "                            MAX(CASE WHEN n.symbol = 'Mn' THEN rn.value ELSE 0 END) AS Mn,\n",
    "                            MAX(CASE WHEN n.symbol = 'Fe' THEN rn.value ELSE 0 END) AS Fe,\n",
    "                            MAX(CASE WHEN n.symbol = 'Cu' THEN rn.value ELSE 0 END) AS Cu,\n",
    "                            MAX(CASE WHEN n.symbol = 'Zn' THEN rn.value ELSE 0 END) AS Zn\n",
    "                        FROM soil_results AS sr\n",
    "                        JOIN soils AS s ON sr.soil_id = s.id\n",
    "                        JOIN result_nutrients AS rn ON sr.id = rn.soil_result_id\n",
    "                        JOIN nutrients AS n ON rn.nutrient_id = n.id\n",
    "                        WHERE sr.analysis_method_id  = 2\n",
    "                        GROUP BY sr.id\n",
    "                        ORDER BY sr.id;\"\"\", engine)\n",
    "\n",
    "soil_icp_df = soil_icp_df.rename(columns={'name': 'soil'})"
   ]
  },
  {
   "cell_type": "markdown",
   "id": "89978e67-4901-4373-a8f7-eb1d8ac8412a",
   "metadata": {},
   "source": [
    "### Query to extract the soil_HHXRF dataframe"
   ]
  },
  {
   "cell_type": "code",
   "execution_count": 6,
   "id": "b6659964-ed66-4858-9980-8b3e2ce4b5d6",
   "metadata": {},
   "outputs": [],
   "source": [
    "soil_hhxrf_df = pd.read_sql_query(\"\"\"\n",
    "                        -- This query extracts the information necessary to shape the soil_icp dataframe\n",
    "                        \n",
    "                        SELECT sr.id, s.name, sr.sample, sr.rep,\n",
    "                            MAX(CASE WHEN n.symbol = 'B' THEN rn.value ELSE 0 END) AS B,\n",
    "                            MAX(CASE WHEN n.symbol = 'Mg' THEN rn.value ELSE 0 END) AS Mg,\n",
    "                            MAX(CASE WHEN n.symbol = 'P' THEN rn.value ELSE 0 END) AS P,\n",
    "                            MAX(CASE WHEN n.symbol = 'S' THEN rn.value ELSE 0 END) AS S,\n",
    "                            MAX(CASE WHEN n.symbol = 'K' THEN rn.value ELSE 0 END) AS K,\n",
    "                            MAX(CASE WHEN n.symbol = 'Ca' THEN rn.value ELSE 0 END) AS Ca,\n",
    "                            MAX(CASE WHEN n.symbol = 'Mn' THEN rn.value ELSE 0 END) AS Mn,\n",
    "                            MAX(CASE WHEN n.symbol = 'Fe' THEN rn.value ELSE 0 END) AS Fe,\n",
    "                            MAX(CASE WHEN n.symbol = 'Cu' THEN rn.value ELSE 0 END) AS Cu,\n",
    "                            MAX(CASE WHEN n.symbol = 'Zn' THEN rn.value ELSE 0 END) AS Zn\n",
    "                        FROM soil_results AS sr\n",
    "                        JOIN soils AS s ON sr.soil_id = s.id\n",
    "                        JOIN result_nutrients AS rn ON sr.id = rn.soil_result_id\n",
    "                        JOIN nutrients AS n ON rn.nutrient_id = n.id\n",
    "                        WHERE sr.analysis_method_id  = 3\n",
    "                        GROUP BY sr.id\n",
    "                        ORDER BY sr.id;\"\"\", engine)\n",
    "\n",
    "\n"
   ]
  },
  {
   "cell_type": "markdown",
   "id": "b41e5077-1d56-4a40-888a-7953035166f8",
   "metadata": {},
   "source": [
    "#### Correct index `id` of `soil_hhxrf_df` so that it starts at `1`"
   ]
  },
  {
   "cell_type": "code",
   "execution_count": 10,
   "id": "ec56ea23-8119-439f-9664-f44c9084ecad",
   "metadata": {},
   "outputs": [],
   "source": [
    "soil_hhxrf_df = soil_hhxrf_df.drop('id', axis=1)\n",
    "soil_hhxrf_df.reset_index(drop=True, inplace=True)\n",
    "soil_hhxrf_df.index += 1\n",
    "soil_hhxrf_df['id'] = soil_hhxrf_df.index\n",
    "\n",
    "soil_hhxrf_df = soil_hhxrf_df.rename(columns={'name': 'soil'})"
   ]
  },
  {
   "cell_type": "markdown",
   "id": "55b1170e-bba4-4a00-8c63-239bba8d1431",
   "metadata": {},
   "source": [
    "## 2. Creation of a table of adequate ranges of nutrients"
   ]
  },
  {
   "cell_type": "markdown",
   "id": "c4276e7f-7d9f-4263-b755-976c680f74c2",
   "metadata": {},
   "source": [
    "#### Nutrient range for sandy soils"
   ]
  },
  {
   "cell_type": "code",
   "execution_count": 11,
   "id": "2bbb5bb9-2ba3-4249-9e69-cf77b29ba904",
   "metadata": {},
   "outputs": [
    {
     "name": "stdout",
     "output_type": "stream",
     "text": [
      "      limit    B   Mg   P   S   K   Ca  Mn   Fe   Cu   Zn\n",
      "0  inferior  0.5   51  23  30  66  400  10  2.6  1.0  3.1\n",
      "1  superior  1.0  250  32  40  90  600  20  4.7  5.5   20\n"
     ]
    }
   ],
   "source": [
    "nutrients_sandy = ['limit','B', 'Mg', 'P', 'S', 'K', 'Ca', 'Mn', 'Fe', 'Cu', 'Zn']\n",
    "sandy_soil_nutrient_range = pd.DataFrame(columns=nutrients_sandy)\n",
    "sandy_soil_nutrient_range.loc[0] = ['inferior', '0.5', '51', '23', '30', '66', '400', '10', '2.6', '1.0', '3.1']  # Values for the first row\n",
    "sandy_soil_nutrient_range.loc[1] = ['superior','1.0', '250', '32', '40', '90', '600', '20', '4.7', '5.5', '20']  # Values for the second row\n",
    "print(sandy_soil_nutrient_range)"
   ]
  },
  {
   "cell_type": "markdown",
   "id": "5bc3de97-dbd8-4091-b5ba-1d6f05b69579",
   "metadata": {},
   "source": [
    "#### Nutrient range for Medium-textured soils"
   ]
  },
  {
   "cell_type": "code",
   "execution_count": 13,
   "id": "0144c605-be30-4236-b657-0e3f8ecf09cd",
   "metadata": {},
   "outputs": [
    {
     "name": "stdout",
     "output_type": "stream",
     "text": [
      "      limit    B   Mg   P   S    K    Ca  Mn   Fe   Cu   Zn\n",
      "0  inferior  0.9  101  11  30   81   601  10  2.6  1.0  3.1\n",
      "1  superior  1.5  500  20  40  110  1000  20  4.7  5.5   20\n"
     ]
    }
   ],
   "source": [
    "nutrients_medium = ['limit','B', 'Mg', 'P', 'S', 'K', 'Ca', 'Mn', 'Fe', 'Cu', 'Zn']\n",
    "soil_medium_nutrient_range = pd.DataFrame(columns=nutrients_medium)\n",
    "soil_medium_nutrient_range.loc[0] = ['inferior', '0.9', '101', '11', '30', '81', '601', '10', '2.6', '1.0', '3.1']  # Values for the first row\n",
    "soil_medium_nutrient_range.loc[1] = ['superior','1.5', '500', '20', '40', '110', '1000', '20', '4.7', '5.5', '20']  # Values for the second row\n",
    "print(soil_medium_nutrient_range)"
   ]
  },
  {
   "cell_type": "markdown",
   "id": "e19718ef-a72d-4a3f-96a0-7544a3eff1ad",
   "metadata": {},
   "source": [
    "## 3. Creation of a table of soil types"
   ]
  },
  {
   "cell_type": "code",
   "execution_count": 8,
   "id": "c1220aaa-e0c4-427f-b979-69e75d1b04c0",
   "metadata": {},
   "outputs": [
    {
     "name": "stdout",
     "output_type": "stream",
     "text": [
      "       soil    type\n",
      "0       krm   sandy\n",
      "1     lobby   sandy\n",
      "2    yenter   sandy\n",
      "3       pow   sandy\n",
      "4       c15   sandy\n",
      "5       c21   sandy\n",
      "6       c28   sandy\n",
      "7    coloma   sandy\n",
      "8   patrick  medium\n",
      "9    werner  medium\n",
      "10   wormet   sandy\n"
     ]
    }
   ],
   "source": [
    "soil_types = ['soil', 'type']\n",
    "soil_types_df = pd.DataFrame(columns=soil_types)\n",
    "\n",
    "# Determines the soil type\n",
    "def determine_soil_type(soil_name):\n",
    "    if soil_name == 'patrick':\n",
    "        return 'medium'\n",
    "    elif soil_name == 'werner':\n",
    "        return 'medium'\n",
    "    else:\n",
    "        return 'sandy'\n",
    "\n",
    "soil_types_df.loc[0] = ['krm', determine_soil_type('krm')]\n",
    "soil_types_df.loc[1] = ['lobby', determine_soil_type('lobby')]\n",
    "soil_types_df.loc[2] = ['yenter', determine_soil_type('yenter')]\n",
    "soil_types_df.loc[3] = ['pow', determine_soil_type('pow')]\n",
    "soil_types_df.loc[4] = ['c15', determine_soil_type('c15')]\n",
    "soil_types_df.loc[5] = ['c21', determine_soil_type('c21')]\n",
    "soil_types_df.loc[6] = ['c28', determine_soil_type('c28')]\n",
    "soil_types_df.loc[7] = ['coloma', determine_soil_type('coloma')]\n",
    "soil_types_df.loc[8] = ['patrick', determine_soil_type('patrick')]\n",
    "soil_types_df.loc[9] = ['werner', determine_soil_type('werner')]\n",
    "soil_types_df.loc[10] = ['wormet', determine_soil_type('wormet')]\n",
    "print(soil_types_df)"
   ]
  },
  {
   "cell_type": "markdown",
   "id": "1e03a661-f69d-4394-beb4-d35cbea30bb1",
   "metadata": {},
   "source": [
    "## 4. Checking if the ICP values are in the range"
   ]
  },
  {
   "cell_type": "code",
   "execution_count": 17,
   "id": "7f650e1b-e69a-4458-8b9e-42ec5e886a4a",
   "metadata": {},
   "outputs": [
    {
     "name": "stdout",
     "output_type": "stream",
     "text": [
      "      id    soil sample  rep   B    Mg     P   S     K    Ca    Mn    Fe  Cu  \\\n",
      "1      1  coloma      1    1  NA    NA    NA  NA  high  high  high  high  NA   \n",
      "2      2  coloma      2    1  NA  high    NA  NA  high  high  high  high  NA   \n",
      "3      3  coloma      2    2  NA  high    NA  NA  high  high  high  high  NA   \n",
      "4      4  coloma      2    3  NA  high    NA  NA  high  high  high  high  NA   \n",
      "5      5  coloma      3    1  NA  high    NA  NA  high  high  high  high  NA   \n",
      "..   ...     ...    ...  ...  ..   ...   ...  ..   ...   ...   ...   ...  ..   \n",
      "785  785     c28     18    2  NA  high  high  NA  high  high  high  high  NA   \n",
      "786  786     c28     18    3  NA  high  high  NA  high  high  high  high  NA   \n",
      "787  787     c28     19    1  NA  high  high  NA  high  high  high  high  NA   \n",
      "788  788     c28     19    2  NA  high  high  NA  high  high  high  high  NA   \n",
      "789  789     c28     19    3  NA  high  high  NA  high  high  high  high  NA   \n",
      "\n",
      "          Zn  \n",
      "1    optimum  \n",
      "2    optimum  \n",
      "3       high  \n",
      "4       high  \n",
      "5    optimum  \n",
      "..       ...  \n",
      "785  optimum  \n",
      "786  optimum  \n",
      "787  optimum  \n",
      "788  optimum  \n",
      "789  optimum  \n",
      "\n",
      "[789 rows x 14 columns]\n"
     ]
    }
   ],
   "source": [
    "# Initialize the new DataFrame\n",
    "icp_classification = ['id'] + list(soil_icp_df.columns[1:4]) + nutrients_sandy[1:]\n",
    "icp_classification_df = pd.DataFrame(columns=icp_classification)\n",
    "\n",
    "# Iterate over soil_icp_df to fill icp_classification_df\n",
    "for id, row in soil_icp_df.iterrows():\n",
    "    new_id = id + 1\n",
    "    new_row = [new_id] + list(row[1:4])\n",
    "\n",
    "    # Determine soil type\n",
    "    soil_name = row.iloc[1]\n",
    "    soil_type = soil_types_df[soil_types_df['soil'] == soil_name]['type'].iloc[0]\n",
    "\n",
    "    # Select the appropriate nutrient range table\n",
    "    nutrient_range_df = sandy_soil_nutrient_range if soil_type == 'sandy' else soil_medium_nutrient_range\n",
    "\n",
    "    # Compare and categorize values\n",
    "    for element in nutrients_sandy[1:]:\n",
    "        element_value = row[element]\n",
    "\n",
    "        if element_value == 0:  # Check if the value is zero\n",
    "            category = 'NA'  # Assign None (which will be NULL in CSV)\n",
    "        else:\n",
    "            lower_limit = float(nutrient_range_df[nutrient_range_df['limit'] == 'inferior'][element].iloc[0])\n",
    "            upper_limit = float(nutrient_range_df[nutrient_range_df['limit'] == 'superior'][element].iloc[0])\n",
    "\n",
    "\n",
    "            if element_value < lower_limit:\n",
    "                category = 'low'\n",
    "            elif element_value > upper_limit:\n",
    "                category = 'high'\n",
    "            else:\n",
    "                category = 'optimum'\n",
    "        \n",
    "        new_row.append(category)\n",
    "\n",
    "    icp_classification_df.loc[new_id] = new_row"
   ]
  },
  {
   "cell_type": "markdown",
   "id": "28a6880d-4d18-4e6e-8ee5-e36db391fbce",
   "metadata": {},
   "source": [
    "#### Export icp_classification_df to a CSV file"
   ]
  },
  {
   "cell_type": "code",
   "execution_count": 18,
   "id": "aebd1fca-c24e-49af-b97f-8e66f7bbab2b",
   "metadata": {},
   "outputs": [
    {
     "name": "stdout",
     "output_type": "stream",
     "text": [
      "      id    soil sample  rep   B    Mg     P   S     K    Ca    Mn    Fe  Cu  \\\n",
      "1      1  coloma      1    1  NA    NA    NA  NA  high  high  high  high  NA   \n",
      "2      2  coloma      2    1  NA  high    NA  NA  high  high  high  high  NA   \n",
      "3      3  coloma      2    2  NA  high    NA  NA  high  high  high  high  NA   \n",
      "4      4  coloma      2    3  NA  high    NA  NA  high  high  high  high  NA   \n",
      "5      5  coloma      3    1  NA  high    NA  NA  high  high  high  high  NA   \n",
      "..   ...     ...    ...  ...  ..   ...   ...  ..   ...   ...   ...   ...  ..   \n",
      "785  785     c28     18    2  NA  high  high  NA  high  high  high  high  NA   \n",
      "786  786     c28     18    3  NA  high  high  NA  high  high  high  high  NA   \n",
      "787  787     c28     19    1  NA  high  high  NA  high  high  high  high  NA   \n",
      "788  788     c28     19    2  NA  high  high  NA  high  high  high  high  NA   \n",
      "789  789     c28     19    3  NA  high  high  NA  high  high  high  high  NA   \n",
      "\n",
      "          Zn  \n",
      "1    optimum  \n",
      "2    optimum  \n",
      "3       high  \n",
      "4       high  \n",
      "5    optimum  \n",
      "..       ...  \n",
      "785  optimum  \n",
      "786  optimum  \n",
      "787  optimum  \n",
      "788  optimum  \n",
      "789  optimum  \n",
      "\n",
      "[789 rows x 14 columns]\n"
     ]
    }
   ],
   "source": [
    "icp_classification_df.to_csv('icp_classification_df.csv', index = False)\n",
    "print(icp_classification_df)"
   ]
  }
 ],
 "metadata": {
  "kernelspec": {
   "display_name": "Python 3 (ipykernel)",
   "language": "python",
   "name": "python3"
  },
  "language_info": {
   "codemirror_mode": {
    "name": "ipython",
    "version": 3
   },
   "file_extension": ".py",
   "mimetype": "text/x-python",
   "name": "python",
   "nbconvert_exporter": "python",
   "pygments_lexer": "ipython3",
   "version": "3.11.8"
  }
 },
 "nbformat": 4,
 "nbformat_minor": 5
}
