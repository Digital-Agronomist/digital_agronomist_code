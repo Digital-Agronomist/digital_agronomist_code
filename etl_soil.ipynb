{
 "cells": [
  {
   "cell_type": "code",
   "execution_count": 1,
   "id": "c73530fc-7af5-46a3-9779-9f1c9e0b5623",
   "metadata": {},
   "outputs": [
    {
     "name": "stdout",
     "output_type": "stream",
     "text": [
      "Requirement already satisfied: factor_analyzer==0.5.0 in /home/jroa/.local/lib/python3.11/site-packages (from -r requirements.txt (line 1)) (0.5.0)\n",
      "Requirement already satisfied: matplotlib==3.8.2 in /home/jroa/.local/lib/python3.11/site-packages (from -r requirements.txt (line 2)) (3.8.2)\n",
      "Requirement already satisfied: numpy==1.26.4 in /home/jroa/.local/lib/python3.11/site-packages (from -r requirements.txt (line 3)) (1.26.4)\n",
      "Requirement already satisfied: pandas==2.2.0 in /home/jroa/.local/lib/python3.11/site-packages (from -r requirements.txt (line 4)) (2.2.0)\n",
      "Requirement already satisfied: python-dotenv==1.0.1 in /home/jroa/.local/lib/python3.11/site-packages (from -r requirements.txt (line 5)) (1.0.1)\n",
      "Requirement already satisfied: scikit_learn==1.3.2 in /home/jroa/.local/lib/python3.11/site-packages (from -r requirements.txt (line 6)) (1.3.2)\n",
      "Requirement already satisfied: seaborn==0.13.2 in /home/jroa/.local/lib/python3.11/site-packages (from -r requirements.txt (line 7)) (0.13.2)\n",
      "Requirement already satisfied: SQLAlchemy==2.0.25 in /home/jroa/.local/lib/python3.11/site-packages (from -r requirements.txt (line 8)) (2.0.25)\n",
      "Requirement already satisfied: openpyxl==3.1.2 in /home/jroa/.local/lib/python3.11/site-packages (from -r requirements.txt (line 9)) (3.1.2)\n",
      "Requirement already satisfied: mariadb==1.1.10 in /home/jroa/.local/lib/python3.11/site-packages (from -r requirements.txt (line 10)) (1.1.10)\n",
      "Requirement already satisfied: Pillow in /home/jroa/.conda/envs/new_agronomist/lib/python3.11/site-packages (from -r requirements.txt (line 11)) (10.2.0)\n",
      "Requirement already satisfied: scipy in /home/jroa/.local/lib/python3.11/site-packages (from factor_analyzer==0.5.0->-r requirements.txt (line 1)) (1.12.0)\n",
      "Requirement already satisfied: pre-commit in /home/jroa/.local/lib/python3.11/site-packages (from factor_analyzer==0.5.0->-r requirements.txt (line 1)) (3.6.2)\n",
      "Requirement already satisfied: contourpy>=1.0.1 in /home/jroa/.local/lib/python3.11/site-packages (from matplotlib==3.8.2->-r requirements.txt (line 2)) (1.2.0)\n",
      "Requirement already satisfied: cycler>=0.10 in /home/jroa/.local/lib/python3.11/site-packages (from matplotlib==3.8.2->-r requirements.txt (line 2)) (0.12.1)\n",
      "Requirement already satisfied: fonttools>=4.22.0 in /home/jroa/.local/lib/python3.11/site-packages (from matplotlib==3.8.2->-r requirements.txt (line 2)) (4.47.2)\n",
      "Requirement already satisfied: kiwisolver>=1.3.1 in /home/jroa/.local/lib/python3.11/site-packages (from matplotlib==3.8.2->-r requirements.txt (line 2)) (1.4.5)\n",
      "Requirement already satisfied: packaging>=20.0 in /home/jroa/.conda/envs/new_agronomist/lib/python3.11/site-packages (from matplotlib==3.8.2->-r requirements.txt (line 2)) (23.1)\n",
      "Requirement already satisfied: pyparsing>=2.3.1 in /home/jroa/.local/lib/python3.11/site-packages (from matplotlib==3.8.2->-r requirements.txt (line 2)) (3.1.1)\n",
      "Requirement already satisfied: python-dateutil>=2.7 in /home/jroa/.local/lib/python3.11/site-packages (from matplotlib==3.8.2->-r requirements.txt (line 2)) (2.8.2)\n",
      "Requirement already satisfied: pytz>=2020.1 in /home/jroa/.local/lib/python3.11/site-packages (from pandas==2.2.0->-r requirements.txt (line 4)) (2024.1)\n",
      "Requirement already satisfied: tzdata>=2022.7 in /home/jroa/.local/lib/python3.11/site-packages (from pandas==2.2.0->-r requirements.txt (line 4)) (2024.1)\n",
      "Requirement already satisfied: joblib>=1.1.1 in /home/jroa/.local/lib/python3.11/site-packages (from scikit_learn==1.3.2->-r requirements.txt (line 6)) (1.3.2)\n",
      "Requirement already satisfied: threadpoolctl>=2.0.0 in /home/jroa/.local/lib/python3.11/site-packages (from scikit_learn==1.3.2->-r requirements.txt (line 6)) (3.3.0)\n",
      "Requirement already satisfied: typing-extensions>=4.6.0 in /home/jroa/.local/lib/python3.11/site-packages (from SQLAlchemy==2.0.25->-r requirements.txt (line 8)) (4.9.0)\n",
      "Requirement already satisfied: greenlet!=0.4.17 in /home/jroa/.local/lib/python3.11/site-packages (from SQLAlchemy==2.0.25->-r requirements.txt (line 8)) (3.0.3)\n",
      "Requirement already satisfied: et-xmlfile in /home/jroa/.local/lib/python3.11/site-packages (from openpyxl==3.1.2->-r requirements.txt (line 9)) (1.1.0)\n",
      "Requirement already satisfied: six>=1.5 in /home/jroa/.local/lib/python3.11/site-packages (from python-dateutil>=2.7->matplotlib==3.8.2->-r requirements.txt (line 2)) (1.16.0)\n",
      "Requirement already satisfied: cfgv>=2.0.0 in /home/jroa/.local/lib/python3.11/site-packages (from pre-commit->factor_analyzer==0.5.0->-r requirements.txt (line 1)) (3.4.0)\n",
      "Requirement already satisfied: identify>=1.0.0 in /home/jroa/.local/lib/python3.11/site-packages (from pre-commit->factor_analyzer==0.5.0->-r requirements.txt (line 1)) (2.5.35)\n",
      "Requirement already satisfied: nodeenv>=0.11.1 in /home/jroa/.local/lib/python3.11/site-packages (from pre-commit->factor_analyzer==0.5.0->-r requirements.txt (line 1)) (1.8.0)\n",
      "Requirement already satisfied: pyyaml>=5.1 in /home/jroa/.local/lib/python3.11/site-packages (from pre-commit->factor_analyzer==0.5.0->-r requirements.txt (line 1)) (6.0.1)\n",
      "Requirement already satisfied: virtualenv>=20.10.0 in /home/jroa/.local/lib/python3.11/site-packages (from pre-commit->factor_analyzer==0.5.0->-r requirements.txt (line 1)) (20.25.0)\n",
      "Requirement already satisfied: setuptools in /home/jroa/.local/lib/python3.11/site-packages (from nodeenv>=0.11.1->pre-commit->factor_analyzer==0.5.0->-r requirements.txt (line 1)) (67.8.0)\n",
      "Requirement already satisfied: distlib<1,>=0.3.7 in /home/jroa/.local/lib/python3.11/site-packages (from virtualenv>=20.10.0->pre-commit->factor_analyzer==0.5.0->-r requirements.txt (line 1)) (0.3.8)\n",
      "Requirement already satisfied: filelock<4,>=3.12.2 in /home/jroa/.local/lib/python3.11/site-packages (from virtualenv>=20.10.0->pre-commit->factor_analyzer==0.5.0->-r requirements.txt (line 1)) (3.13.1)\n",
      "Requirement already satisfied: platformdirs<5,>=3.9.1 in /home/jroa/.local/lib/python3.11/site-packages (from virtualenv>=20.10.0->pre-commit->factor_analyzer==0.5.0->-r requirements.txt (line 1)) (4.1.0)\n",
      "Note: you may need to restart the kernel to use updated packages.\n",
      "Requirement already satisfied: pymysql in /home/jroa/.conda/envs/new_agronomist/lib/python3.11/site-packages (1.1.0)\n",
      "Note: you may need to restart the kernel to use updated packages.\n"
     ]
    }
   ],
   "source": [
    "%pwd\n",
    "%pip install -r requirements.txt\n",
    "%pip install pymysql"
   ]
  },
  {
   "cell_type": "code",
   "execution_count": 2,
   "id": "166747fa-a75f-4355-895a-c91ee543139e",
   "metadata": {},
   "outputs": [
    {
     "data": {
      "text/plain": [
       "True"
      ]
     },
     "execution_count": 2,
     "metadata": {},
     "output_type": "execute_result"
    }
   ],
   "source": [
    "import os\n",
    "from dotenv import load_dotenv\n",
    "load_dotenv()"
   ]
  },
  {
   "cell_type": "code",
   "execution_count": 3,
   "id": "68732532-e5ab-4893-9397-eb8648040594",
   "metadata": {},
   "outputs": [],
   "source": [
    "from sqlalchemy import create_engine\n",
    "from factor_analyzer.factor_analyzer import calculate_kmo\n",
    "from factor_analyzer.factor_analyzer import calculate_bartlett_sphericity\n",
    "\n",
    "import matplotlib.pyplot as plt\n",
    "import numpy as np\n",
    "import pandas as pd\n",
    "import seaborn as sns\n",
    "from sklearn.decomposition import FactorAnalysis\n",
    "from sklearn.preprocessing import StandardScaler\n",
    "from sklearn.decomposition import PCA"
   ]
  },
  {
   "cell_type": "code",
   "execution_count": 4,
   "id": "c198c432-8619-401e-99ed-49ac4b48bd32",
   "metadata": {},
   "outputs": [],
   "source": [
    "# -------------------------------------------------------------------------------------------------------------\n",
    "## 0. Connect to the database and extract the data\n",
    "\n",
    "# Establish the connection\n",
    "# sqlalchemy uses a standard URL for connections: \n",
    "# 'mysql+pymysql://<user>:<password>@<host>/<dbname>'\n",
    "DATABASE_CON = os.getenv('DATABASE_CON')\n",
    "\n",
    "# Create a SQLAlchemy engine\n",
    "engine = create_engine(DATABASE_CON)\n",
    "\n",
    "# Query to extract the soil_ICP dataframe\n",
    "soil_icp_df = pd.read_sql_query(\"\"\"\n",
    "                        -- This query extracts the information necessary to shape the soil_icp dataframe\n",
    "                        \n",
    "                        SELECT sr.id, s.name, sr.sample, sr.rep,\n",
    "                            MAX(CASE WHEN n.symbol = 'B' THEN rn.value ELSE 0 END) AS B,\n",
    "                            MAX(CASE WHEN n.symbol = 'Mg' THEN rn.value ELSE 0 END) AS Mg,\n",
    "                            MAX(CASE WHEN n.symbol = 'P' THEN rn.value ELSE 0 END) AS P,\n",
    "                            MAX(CASE WHEN n.symbol = 'S' THEN rn.value ELSE 0 END) AS S,\n",
    "                            MAX(CASE WHEN n.symbol = 'K' THEN rn.value ELSE 0 END) AS K,\n",
    "                            MAX(CASE WHEN n.symbol = 'Ca' THEN rn.value ELSE 0 END) AS Ca,\n",
    "                            MAX(CASE WHEN n.symbol = 'Mn' THEN rn.value ELSE 0 END) AS Mn,\n",
    "                            MAX(CASE WHEN n.symbol = 'Fe' THEN rn.value ELSE 0 END) AS Fe,\n",
    "                            MAX(CASE WHEN n.symbol = 'Cu' THEN rn.value ELSE 0 END) AS Cu,\n",
    "                            MAX(CASE WHEN n.symbol = 'Zn' THEN rn.value ELSE 0 END) AS Zn\n",
    "                        FROM soil_results AS sr\n",
    "                        JOIN soils AS s ON sr.soil_id = s.id\n",
    "                        JOIN result_nutrients AS rn ON sr.id = rn.soil_result_id\n",
    "                        JOIN nutrients AS n ON rn.nutrient_id = n.id\n",
    "                        WHERE sr.analysis_method_id  = 2\n",
    "                        GROUP BY sr.id\n",
    "                        ORDER BY sr.id;\"\"\", engine)\n",
    "\n",
    "soil_icp_df = soil_icp_df.rename(columns={'name': 'soil'})"
   ]
  },
  {
   "cell_type": "code",
   "execution_count": 5,
   "id": "b6659964-ed66-4858-9980-8b3e2ce4b5d6",
   "metadata": {},
   "outputs": [],
   "source": [
    "# Query to extract the soil_HHXRF dataframe\n",
    "soil_hhxrf_df = pd.read_sql_query(\"\"\"\n",
    "                        -- This query extracts the information necessary to shape the soil_icp dataframe\n",
    "                        \n",
    "                        SELECT sr.id, s.name, sr.sample, sr.rep,\n",
    "                            MAX(CASE WHEN n.symbol = 'B' THEN rn.value ELSE 0 END) AS B,\n",
    "                            MAX(CASE WHEN n.symbol = 'Mg' THEN rn.value ELSE 0 END) AS Mg,\n",
    "                            MAX(CASE WHEN n.symbol = 'P' THEN rn.value ELSE 0 END) AS P,\n",
    "                            MAX(CASE WHEN n.symbol = 'S' THEN rn.value ELSE 0 END) AS S,\n",
    "                            MAX(CASE WHEN n.symbol = 'K' THEN rn.value ELSE 0 END) AS K,\n",
    "                            MAX(CASE WHEN n.symbol = 'Ca' THEN rn.value ELSE 0 END) AS Ca,\n",
    "                            MAX(CASE WHEN n.symbol = 'Mn' THEN rn.value ELSE 0 END) AS Mn,\n",
    "                            MAX(CASE WHEN n.symbol = 'Fe' THEN rn.value ELSE 0 END) AS Fe,\n",
    "                            MAX(CASE WHEN n.symbol = 'Cu' THEN rn.value ELSE 0 END) AS Cu,\n",
    "                            MAX(CASE WHEN n.symbol = 'Zn' THEN rn.value ELSE 0 END) AS Zn\n",
    "                        FROM soil_results AS sr\n",
    "                        JOIN soils AS s ON sr.soil_id = s.id\n",
    "                        JOIN result_nutrients AS rn ON sr.id = rn.soil_result_id\n",
    "                        JOIN nutrients AS n ON rn.nutrient_id = n.id\n",
    "                        WHERE sr.analysis_method_id  = 3\n",
    "                        GROUP BY sr.id\n",
    "                        ORDER BY sr.id;\"\"\", engine)\n",
    "\n",
    "# Correct index \"id\" of soil_hhxrf_df so that it starts at 1\n",
    "soil_hhxrf_df = soil_hhxrf_df.drop('id', axis=1)\n",
    "soil_hhxrf_df.reset_index(drop=True, inplace=True)\n",
    "soil_hhxrf_df.index += 1\n",
    "soil_hhxrf_df['id'] = soil_hhxrf_df.index\n",
    "\n",
    "soil_hhxrf_df = soil_hhxrf_df.rename(columns={'name': 'soil'})"
   ]
  }
 ],
 "metadata": {
  "kernelspec": {
   "display_name": "Python 3 (ipykernel)",
   "language": "python",
   "name": "python3"
  },
  "language_info": {
   "codemirror_mode": {
    "name": "ipython",
    "version": 3
   },
   "file_extension": ".py",
   "mimetype": "text/x-python",
   "name": "python",
   "nbconvert_exporter": "python",
   "pygments_lexer": "ipython3",
   "version": "3.11.8"
  }
 },
 "nbformat": 4,
 "nbformat_minor": 5
}
