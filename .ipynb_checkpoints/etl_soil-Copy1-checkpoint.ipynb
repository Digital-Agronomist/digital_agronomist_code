{
 "cells": [
  {
   "cell_type": "markdown",
   "id": "2e20f891-e8a9-486d-9a45-11f66f2014a9",
   "metadata": {},
   "source": [
    "# IMPUTATION Notebook from imputation.py"
   ]
  },
  {
   "cell_type": "markdown",
   "id": "b6e7b518-98d8-423a-be84-e5ccfb49204d",
   "metadata": {},
   "source": [
    "### Install project's libraries"
   ]
  },
  {
   "cell_type": "code",
   "execution_count": null,
   "id": "c73530fc-7af5-46a3-9779-9f1c9e0b5623",
   "metadata": {},
   "outputs": [],
   "source": [
    "%pwd\n",
    "%pip install -r requirements.txt"
   ]
  },
  {
   "cell_type": "markdown",
   "id": "bd21961c-fb29-4edc-8d0d-4326eaa3b603",
   "metadata": {},
   "source": [
    "## Import system and project libraries"
   ]
  },
  {
   "cell_type": "code",
   "execution_count": null,
   "id": "166747fa-a75f-4355-895a-c91ee543139e",
   "metadata": {},
   "outputs": [],
   "source": [
    "import os\n",
    "from dotenv import load_dotenv\n",
    "load_dotenv()"
   ]
  },
  {
   "cell_type": "code",
   "execution_count": null,
   "id": "68732532-e5ab-4893-9397-eb8648040594",
   "metadata": {},
   "outputs": [],
   "source": [
    "from sqlalchemy import create_engine\n",
    "from factor_analyzer.factor_analyzer import calculate_kmo\n",
    "from factor_analyzer.factor_analyzer import calculate_bartlett_sphericity\n",
    "\n",
    "import matplotlib.pyplot as plt\n",
    "import numpy as np\n",
    "import pandas as pd\n",
    "import seaborn as sns\n",
    "from sklearn.decomposition import FactorAnalysis\n",
    "from sklearn.preprocessing import StandardScaler\n",
    "from sklearn.decomposition import PCA"
   ]
  },
  {
   "cell_type": "markdown",
   "id": "4530201c-ffea-45df-9337-86a59bfeea9d",
   "metadata": {},
   "source": [
    "## 0. Connect to the database and extract the data"
   ]
  },
  {
   "cell_type": "markdown",
   "id": "1184c217-c495-4ed2-80f6-29dd28860d2b",
   "metadata": {},
   "source": [
    "### Database connection"
   ]
  },
  {
   "cell_type": "code",
   "execution_count": null,
   "id": "f18d7fae-189d-4544-bf19-36ec0f055cc6",
   "metadata": {},
   "outputs": [],
   "source": [
    "# Establish the connection\n",
    "# sqlalchemy uses a standard URL for connections: \n",
    "# 'mysql+pymysql://<user>:<password>@<host>/<dbname>'\n",
    "DATABASE_CON = os.getenv('DATABASE_CON')\n",
    "\n",
    "try:\n",
    "    # Create a SQLAlchemy engine\n",
    "    engine = create_engine(DATABASE_CON)\n",
    "    # Attempt to connect to the database\n",
    "    with engine.connect() as connection:\n",
    "        print(\"Database connection established successfully.\")\n",
    "except SQLAlchemyError as e:\n",
    "    # Handle the error\n",
    "    print(f\"An error occurred when connecting to the database: {e}\")"
   ]
  },
  {
   "cell_type": "markdown",
   "id": "65eb6c4e-39c9-4e21-a2c4-f3f10ddb1e70",
   "metadata": {},
   "source": [
    "### Query to extract the soil_ICP dataframe"
   ]
  },
  {
   "cell_type": "code",
   "execution_count": null,
   "id": "c198c432-8619-401e-99ed-49ac4b48bd32",
   "metadata": {},
   "outputs": [],
   "source": [
    "soil_icp_df = pd.read_sql_query(\"\"\"\n",
    "                        -- This query extracts the information necessary to shape the soil_icp dataframe\n",
    "                        \n",
    "                        SELECT sr.id, s.name, sr.sample, sr.rep,\n",
    "                            MAX(CASE WHEN n.symbol = 'B' THEN rn.value ELSE 0 END) AS B,\n",
    "                            MAX(CASE WHEN n.symbol = 'Mg' THEN rn.value ELSE 0 END) AS Mg,\n",
    "                            MAX(CASE WHEN n.symbol = 'P' THEN rn.value ELSE 0 END) AS P,\n",
    "                            MAX(CASE WHEN n.symbol = 'S' THEN rn.value ELSE 0 END) AS S,\n",
    "                            MAX(CASE WHEN n.symbol = 'K' THEN rn.value ELSE 0 END) AS K,\n",
    "                            MAX(CASE WHEN n.symbol = 'Ca' THEN rn.value ELSE 0 END) AS Ca,\n",
    "                            MAX(CASE WHEN n.symbol = 'Mn' THEN rn.value ELSE 0 END) AS Mn,\n",
    "                            MAX(CASE WHEN n.symbol = 'Fe' THEN rn.value ELSE 0 END) AS Fe,\n",
    "                            MAX(CASE WHEN n.symbol = 'Cu' THEN rn.value ELSE 0 END) AS Cu,\n",
    "                            MAX(CASE WHEN n.symbol = 'Zn' THEN rn.value ELSE 0 END) AS Zn\n",
    "                        FROM soil_results AS sr\n",
    "                        JOIN soils AS s ON sr.soil_id = s.id\n",
    "                        JOIN result_nutrients AS rn ON sr.id = rn.soil_result_id\n",
    "                        JOIN nutrients AS n ON rn.nutrient_id = n.id\n",
    "                        WHERE sr.analysis_method_id  = 2\n",
    "                        GROUP BY sr.id\n",
    "                        ORDER BY sr.id;\"\"\", engine)\n",
    "\n",
    "soil_icp_df = soil_icp_df.rename(columns={'name': 'soil'})"
   ]
  },
  {
   "cell_type": "markdown",
   "id": "89978e67-4901-4373-a8f7-eb1d8ac8412a",
   "metadata": {},
   "source": [
    "### Query to extract the soil_HHXRF dataframe"
   ]
  },
  {
   "cell_type": "code",
   "execution_count": null,
   "id": "b6659964-ed66-4858-9980-8b3e2ce4b5d6",
   "metadata": {},
   "outputs": [],
   "source": [
    "soil_hhxrf_df = pd.read_sql_query(\"\"\"\n",
    "                        -- This query extracts the information necessary to shape the soil_icp dataframe\n",
    "                        \n",
    "                        SELECT sr.id, s.name, sr.sample, sr.rep,\n",
    "                            MAX(CASE WHEN n.symbol = 'B' THEN rn.value ELSE 0 END) AS B,\n",
    "                            MAX(CASE WHEN n.symbol = 'Mg' THEN rn.value ELSE 0 END) AS Mg,\n",
    "                            MAX(CASE WHEN n.symbol = 'P' THEN rn.value ELSE 0 END) AS P,\n",
    "                            MAX(CASE WHEN n.symbol = 'S' THEN rn.value ELSE 0 END) AS S,\n",
    "                            MAX(CASE WHEN n.symbol = 'K' THEN rn.value ELSE 0 END) AS K,\n",
    "                            MAX(CASE WHEN n.symbol = 'Ca' THEN rn.value ELSE 0 END) AS Ca,\n",
    "                            MAX(CASE WHEN n.symbol = 'Mn' THEN rn.value ELSE 0 END) AS Mn,\n",
    "                            MAX(CASE WHEN n.symbol = 'Fe' THEN rn.value ELSE 0 END) AS Fe,\n",
    "                            MAX(CASE WHEN n.symbol = 'Cu' THEN rn.value ELSE 0 END) AS Cu,\n",
    "                            MAX(CASE WHEN n.symbol = 'Zn' THEN rn.value ELSE 0 END) AS Zn\n",
    "                        FROM soil_results AS sr\n",
    "                        JOIN soils AS s ON sr.soil_id = s.id\n",
    "                        JOIN result_nutrients AS rn ON sr.id = rn.soil_result_id\n",
    "                        JOIN nutrients AS n ON rn.nutrient_id = n.id\n",
    "                        WHERE sr.analysis_method_id  = 3\n",
    "                        GROUP BY sr.id\n",
    "                        ORDER BY sr.id;\"\"\", engine)\n",
    "\n",
    "\n"
   ]
  },
  {
   "cell_type": "markdown",
   "id": "b41e5077-1d56-4a40-888a-7953035166f8",
   "metadata": {},
   "source": [
    "#### Correct index `id` of `soil_hhxrf_df` so that it starts at `1`"
   ]
  },
  {
   "cell_type": "code",
   "execution_count": null,
   "id": "ec56ea23-8119-439f-9664-f44c9084ecad",
   "metadata": {},
   "outputs": [],
   "source": [
    "soil_hhxrf_df = soil_hhxrf_df.drop('id', axis=1)\n",
    "soil_hhxrf_df.reset_index(drop=True, inplace=True)\n",
    "soil_hhxrf_df.index += 1\n",
    "soil_hhxrf_df['id'] = soil_hhxrf_df.index\n",
    "\n",
    "soil_hhxrf_df = soil_hhxrf_df.rename(columns={'name': 'soil'})"
   ]
  },
  {
   "cell_type": "markdown",
   "id": "55b1170e-bba4-4a00-8c63-239bba8d1431",
   "metadata": {},
   "source": [
    "## 2. Creation of a table of adequate ranges of nutrients"
   ]
  },
  {
   "cell_type": "markdown",
   "id": "c4276e7f-7d9f-4263-b755-976c680f74c2",
   "metadata": {},
   "source": [
    "#### Nutrient range for sandy soils"
   ]
  },
  {
   "cell_type": "code",
   "execution_count": null,
   "id": "2bbb5bb9-2ba3-4249-9e69-cf77b29ba904",
   "metadata": {},
   "outputs": [],
   "source": [
    "nutrients_sandy = ['limit','B', 'Mg', 'P', 'S', 'K', 'Ca', 'Mn', 'Fe', 'Cu', 'Zn']\n",
    "sandy_soil_nutrient_range = pd.DataFrame(columns=nutrients_sandy)\n",
    "sandy_soil_nutrient_range.loc[0] = ['inferior', '0.5', '51', '23', '30', '66', '400', '10', '2.6', '1.0', '3.1']  # Values for the first row\n",
    "sandy_soil_nutrient_range.loc[1] = ['superior','1.0', '250', '32', '40', '90', '600', '20', '4.7', '5.5', '20']  # Values for the second row\n",
    "print(sandy_soil_nutrient_range)"
   ]
  },
  {
   "cell_type": "markdown",
   "id": "5bc3de97-dbd8-4091-b5ba-1d6f05b69579",
   "metadata": {},
   "source": [
    "#### Nutrient range for Medium-textured soils"
   ]
  },
  {
   "cell_type": "code",
   "execution_count": null,
   "id": "0144c605-be30-4236-b657-0e3f8ecf09cd",
   "metadata": {},
   "outputs": [],
   "source": [
    "nutrients_medium = ['limit','B', 'Mg', 'P', 'S', 'K', 'Ca', 'Mn', 'Fe', 'Cu', 'Zn']\n",
    "soil_medium_nutrient_range = pd.DataFrame(columns=nutrients_medium)\n",
    "soil_medium_nutrient_range.loc[0] = ['inferior', '0.9', '101', '11', '30', '81', '601', '10', '2.6', '1.0', '3.1']  # Values for the first row\n",
    "soil_medium_nutrient_range.loc[1] = ['superior','1.5', '500', '20', '40', '110', '1000', '20', '4.7', '5.5', '20']  # Values for the second row\n",
    "print(soil_medium_nutrient_range)"
   ]
  },
  {
   "cell_type": "markdown",
   "id": "e19718ef-a72d-4a3f-96a0-7544a3eff1ad",
   "metadata": {},
   "source": [
    "## 3. Creation of a table of soil types"
   ]
  },
  {
   "cell_type": "code",
   "execution_count": null,
   "id": "c1220aaa-e0c4-427f-b979-69e75d1b04c0",
   "metadata": {},
   "outputs": [],
   "source": [
    "soil_types = ['soil', 'type']\n",
    "soil_types_df = pd.DataFrame(columns=soil_types)\n",
    "\n",
    "# Determines the soil type\n",
    "def determine_soil_type(soil_name):\n",
    "    if soil_name == 'patrick':\n",
    "        return 'medium'\n",
    "    elif soil_name == 'werner':\n",
    "        return 'medium'\n",
    "    else:\n",
    "        return 'sandy'\n",
    "\n",
    "soil_types_df.loc[0] = ['krm', determine_soil_type('krm')]\n",
    "soil_types_df.loc[1] = ['lobby', determine_soil_type('lobby')]\n",
    "soil_types_df.loc[2] = ['yenter', determine_soil_type('yenter')]\n",
    "soil_types_df.loc[3] = ['pow', determine_soil_type('pow')]\n",
    "soil_types_df.loc[4] = ['c15', determine_soil_type('c15')]\n",
    "soil_types_df.loc[5] = ['c21', determine_soil_type('c21')]\n",
    "soil_types_df.loc[6] = ['c28', determine_soil_type('c28')]\n",
    "soil_types_df.loc[7] = ['coloma', determine_soil_type('coloma')]\n",
    "soil_types_df.loc[8] = ['patrick', determine_soil_type('patrick')]\n",
    "soil_types_df.loc[9] = ['werner', determine_soil_type('werner')]\n",
    "soil_types_df.loc[10] = ['wormet', determine_soil_type('wormet')]\n",
    "print(soil_types_df)"
   ]
  },
  {
   "cell_type": "markdown",
   "id": "1e03a661-f69d-4394-beb4-d35cbea30bb1",
   "metadata": {},
   "source": [
    "## 4. Checking if the ICP values are in the range"
   ]
  },
  {
   "cell_type": "code",
   "execution_count": null,
   "id": "7f650e1b-e69a-4458-8b9e-42ec5e886a4a",
   "metadata": {},
   "outputs": [],
   "source": [
    "# Initialize the new DataFrame\n",
    "icp_classification = ['id'] + list(soil_icp_df.columns[1:4]) + nutrients_sandy[1:]\n",
    "icp_classification_df = pd.DataFrame(columns=icp_classification)\n",
    "\n",
    "# Iterate over soil_icp_df to fill icp_classification_df\n",
    "for id, row in soil_icp_df.iterrows():\n",
    "    new_id = id + 1\n",
    "    new_row = [new_id] + list(row[1:4])\n",
    "\n",
    "    # Determine soil type\n",
    "    soil_name = row.iloc[1]\n",
    "    soil_type = soil_types_df[soil_types_df['soil'] == soil_name]['type'].iloc[0]\n",
    "\n",
    "    # Select the appropriate nutrient range table\n",
    "    nutrient_range_df = sandy_soil_nutrient_range if soil_type == 'sandy' else soil_medium_nutrient_range\n",
    "\n",
    "    # Compare and categorize values\n",
    "    for element in nutrients_sandy[1:]:\n",
    "        element_value = row[element]\n",
    "\n",
    "        if element_value == 0:  # Check if the value is zero\n",
    "            category = 'NA'  # Assign None (which will be NULL in CSV)\n",
    "        else:\n",
    "            lower_limit = float(nutrient_range_df[nutrient_range_df['limit'] == 'inferior'][element].iloc[0])\n",
    "            upper_limit = float(nutrient_range_df[nutrient_range_df['limit'] == 'superior'][element].iloc[0])\n",
    "\n",
    "\n",
    "            if element_value < lower_limit:\n",
    "                category = 'low'\n",
    "            elif element_value > upper_limit:\n",
    "                category = 'high'\n",
    "            else:\n",
    "                category = 'optimum'\n",
    "        \n",
    "        new_row.append(category)\n",
    "\n",
    "    icp_classification_df.loc[new_id] = new_row"
   ]
  },
  {
   "cell_type": "markdown",
   "id": "28a6880d-4d18-4e6e-8ee5-e36db391fbce",
   "metadata": {},
   "source": [
    "#### Export icp_classification_df to a CSV file"
   ]
  },
  {
   "cell_type": "code",
   "execution_count": null,
   "id": "aebd1fca-c24e-49af-b97f-8e66f7bbab2b",
   "metadata": {},
   "outputs": [],
   "source": [
    "icp_classification_df.to_csv('icp_classification_df.csv', index = False)\n",
    "print(icp_classification_df)"
   ]
  },
  {
   "cell_type": "markdown",
   "id": "bd1370d8-8505-435c-8e8a-899c1b703c7a",
   "metadata": {},
   "source": [
    "## 5. Count each type of classification"
   ]
  },
  {
   "cell_type": "code",
   "execution_count": null,
   "id": "2eee2aa2-7118-4072-b0d1-a7d5f9642b68",
   "metadata": {},
   "outputs": [],
   "source": [
    "soil_column = icp_classification_df.columns[1]\n",
    "\n",
    "def calculate_element_counts(element_column):\n",
    "    # Group by soil type and count occurrences of each classification, including 'NA' as a string\n",
    "    element_counts = icp_classification_df.groupby(soil_column)[element_column].value_counts().unstack(fill_value=0)\n",
    "\n",
    "    # Add missing columns with default value 0 if they do not exist\n",
    "    for col in ['NA', 'optimum', 'low', 'high']:\n",
    "        if col not in element_counts.columns:\n",
    "            element_counts[col] = 0\n",
    "\n",
    "    # Reorder columns\n",
    "    element_counts = element_counts[['NA', 'optimum', 'low', 'high']]\n",
    "\n",
    "    # Reset index to make 'soil' a column\n",
    "    element_counts.reset_index(inplace=True)\n",
    "\n",
    "    return element_counts"
   ]
  },
  {
   "cell_type": "markdown",
   "id": "2a78da56-6893-49e9-aead-b063d23286c7",
   "metadata": {},
   "source": [
    "#### Calculate and print counts for each element"
   ]
  },
  {
   "cell_type": "code",
   "execution_count": null,
   "id": "82e79a88-9401-46d7-a484-0dfc705b099d",
   "metadata": {},
   "outputs": [],
   "source": [
    "# List of element columns to process\n",
    "elements = ['B', 'Mg', 'P', 'S', 'K', 'Ca', 'Mn', 'Fe', 'Cu', 'Zn']\n",
    "\n",
    "for element in elements:\n",
    "    element_counts = calculate_element_counts(element)\n",
    "    print(f\"--{element} table--\")\n",
    "    print(element_counts)"
   ]
  },
  {
   "cell_type": "markdown",
   "id": "cedbb108-557e-46e7-91d1-58e049c0048b",
   "metadata": {},
   "source": [
    "## 6. Bar charts for each element"
   ]
  },
  {
   "cell_type": "code",
   "execution_count": null,
   "id": "93c94bb8-ef04-4c6b-b20d-b03fc228847e",
   "metadata": {},
   "outputs": [],
   "source": [
    "def plot_element_counts(element_counts, element_name):\n",
    "    # Set figure size for better readability\n",
    "    plt.figure(figsize=(12, 6))\n",
    "\n",
    "    # Number of soil types\n",
    "    n_soils = len(element_counts)\n",
    "    # Width of a bar\n",
    "    bar_width = 0.2\n",
    "\n",
    "    # Positions of bars on the x-axis\n",
    "    r1 = np.arange(n_soils)\n",
    "    r2 = [x + bar_width for x in r1]\n",
    "    r3 = [x + bar_width for x in r2]\n",
    "    r4 = [x + bar_width for x in r3]\n",
    "\n",
    "    # Plotting the data\n",
    "    plt.bar(r1, element_counts['NA'], color='b', width=bar_width, edgecolor='gray', label='NA')\n",
    "    plt.bar(r2, element_counts['optimum'], color='g', width=bar_width, edgecolor='gray', label='optimum')\n",
    "    plt.bar(r3, element_counts['low'], color='r', width=bar_width, edgecolor='gray', label='low')\n",
    "    plt.bar(r4, element_counts['high'], color='y', width=bar_width, edgecolor='gray', label='high')\n",
    "\n",
    "    # Adding labels and title\n",
    "    plt.xlabel('Soil Type', fontweight='bold')\n",
    "    plt.ylabel('Frequency', fontweight='bold')\n",
    "    plt.xticks([r + bar_width/2 for r in range(n_soils)], element_counts[soil_column], rotation=45)\n",
    "    plt.title(f'Frequency of {element_name} Classifications by Soil Type')\n",
    "    plt.legend()\n",
    "\n",
    "    # Show plot\n",
    "    plt.tight_layout()\n",
    "    plt.show()"
   ]
  },
  {
   "cell_type": "markdown",
   "id": "bc0ada1a-2194-4ffa-bb42-7f1a9900f4cb",
   "metadata": {},
   "source": [
    "#### Calculate counts and plot graph for each element"
   ]
  },
  {
   "cell_type": "code",
   "execution_count": null,
   "id": "7e33a643-9dcd-4159-928d-7f5ae5e54dab",
   "metadata": {},
   "outputs": [],
   "source": [
    "for element in elements:\n",
    "    element_counts = calculate_element_counts(element)\n",
    "    plot_element_counts(element_counts, element)"
   ]
  },
  {
   "cell_type": "markdown",
   "id": "54e347a1-306b-4038-b711-b49b4460c3e0",
   "metadata": {},
   "source": [
    "## 7. KRM dataframe"
   ]
  },
  {
   "cell_type": "code",
   "execution_count": null,
   "id": "832e8019-6c6f-475e-a324-4eb95b086a9a",
   "metadata": {},
   "outputs": [],
   "source": [
    "soil_column = 'soil'\n",
    "\n",
    "# Create a new DataFrame with only the rows for 'krm' soil\n",
    "krm_soil_df = soil_icp_df[soil_icp_df[soil_column] == 'krm']\n",
    "columns_to_drop = [0, 1, 2, 3]\n",
    "krm_soil_df = krm_soil_df.drop(krm_soil_df.columns[columns_to_drop], axis=1)\n",
    "print(krm_soil_df)"
   ]
  },
  {
   "cell_type": "markdown",
   "id": "bff0c69e-9d7b-4a4f-8bac-8b8bca68c545",
   "metadata": {},
   "source": [
    "## 8. Pearson Correlation on KRM"
   ]
  },
  {
   "cell_type": "code",
   "execution_count": null,
   "id": "c148239e-f521-4fa7-809b-51e7ec845a8f",
   "metadata": {},
   "outputs": [],
   "source": [
    "corr_matrix = krm_soil_df.corr(method='pearson')\n",
    "print(corr_matrix)\n",
    "\n",
    "plt.figure(figsize=(12, 8))\n",
    "sns.heatmap(corr_matrix, annot=True, fmt=\".2f\", cmap='coolwarm', cbar_kws={\"shrink\": .5})\n",
    "plt.title('Pearson Correlation Matrix')\n",
    "plt.show()"
   ]
  },
  {
   "cell_type": "markdown",
   "id": "2eda9ffe-3aaf-4317-a49c-bf0d759fc969",
   "metadata": {},
   "source": [
    "## 9. Factor Analysis on KRM"
   ]
  },
  {
   "cell_type": "code",
   "execution_count": null,
   "id": "d5e5cc93-97f2-4987-a816-5e3fed323c22",
   "metadata": {},
   "outputs": [],
   "source": [
    "# Standardize the data\n",
    "scaler = StandardScaler()\n",
    "X = scaler.fit_transform(krm_soil_df)\n",
    "\n",
    "# Perform KMO Test\n",
    "kmo_all, kmo_model = calculate_kmo(krm_soil_df)\n",
    "print(\"KMO Test Value:\", kmo_model)\n",
    "\n",
    "# Perform Bartlett's Test\n",
    "chi_square_value, p_value = calculate_bartlett_sphericity(krm_soil_df)\n",
    "print(\"Bartlett's Test Chi-Square Value:\", chi_square_value)\n",
    "print(\"Bartlett's Test p-value:\", p_value)"
   ]
  },
  {
   "cell_type": "markdown",
   "id": "40307aec-d358-4112-894d-4842cf525d40",
   "metadata": {},
   "source": [
    "BAD RESULT IN THE TEST. THE DATA ARE NOT SUITABLE FOR USING A PRINCIPAL COMPONENT ANALYSIS (PCA) OR A FACTOR ANALYSIS (FA)!!!!!!!!!!!"
   ]
  },
  {
   "cell_type": "code",
   "execution_count": null,
   "id": "93cd345c-c733-42e1-b67a-2aa086eccb23",
   "metadata": {},
   "outputs": [],
   "source": [
    "# Initialize and fit the factor analysis model\n",
    "n_factors = 10\n",
    "fa = FactorAnalysis(n_components=n_factors, random_state=0)\n",
    "X_factor = fa.fit_transform(X)\n",
    "\n",
    "# The factor loadings (or the 'rotated' data) can be accessed via fa.components_\n",
    "print(\"Factor Loadings:\\n\", fa.components_)  # Each row corresponds to a factor\n",
    "\n",
    "# Scores of each variable on the factors\n",
    "factor_scores_df = pd.DataFrame(X_factor, columns=[f'Factor{i+1}' for i in range(n_factors)])\n",
    "print(\"Factor Scores:\\n\", factor_scores_df.head())\n",
    "\n",
    "# Calculate variance explained by each factor\n",
    "variance_explained = np.sum(fa.components_**2, axis=1)\n",
    "\n",
    "# Calculate total variance explained\n",
    "total_variance = np.sum(variance_explained)\n",
    "\n",
    "# Calculate the proportion of variance explained\n",
    "proportion_variance_explained = variance_explained / total_variance"
   ]
  },
  {
   "cell_type": "markdown",
   "id": "158d9d96-e829-4e9a-91f9-f4796ee76eff",
   "metadata": {},
   "source": [
    "#### Print the results"
   ]
  },
  {
   "cell_type": "code",
   "execution_count": null,
   "id": "2ffcf41e-0230-49b8-94e5-3988a1684709",
   "metadata": {},
   "outputs": [],
   "source": [
    "print(\"Total Variance Explained:\", total_variance)\n",
    "print(\"Proportion of Variance Explained:\", proportion_variance_explained)"
   ]
  },
  {
   "cell_type": "markdown",
   "id": "a3be7037-4c7e-4047-8c93-cfb6aa159344",
   "metadata": {},
   "source": [
    "#### Screeplot"
   ]
  },
  {
   "cell_type": "code",
   "execution_count": null,
   "id": "3e749965-3c7c-4b38-9b61-42159bfff296",
   "metadata": {},
   "outputs": [],
   "source": [
    "plt.figure(figsize=(10, 6))\n",
    "plt.plot(range(1, n_factors + 1), variance_explained, 'o-', color='blue')\n",
    "plt.title('Scree Plot')\n",
    "plt.xlabel('Factor Number')\n",
    "plt.ylabel('Variance Explained')\n",
    "plt.grid(True)\n",
    "plt.show()"
   ]
  },
  {
   "cell_type": "markdown",
   "id": "e6c1db92-5a91-4d5a-a121-b3e8102bdbd4",
   "metadata": {},
   "source": [
    "#### 10. PCA"
   ]
  },
  {
   "cell_type": "code",
   "execution_count": null,
   "id": "f73df2be-fc41-4fc4-a329-8d99cac01adf",
   "metadata": {},
   "outputs": [],
   "source": [
    "pca = PCA(n_components=2)\n",
    "principalComponents = pca.fit_transform(X)\n",
    "\n",
    "# Calculate the square root of eigenvalues (variances)\n",
    "sqrt_eigenvalues = np.sqrt(pca.explained_variance_)\n",
    "\n",
    "# Scaling factors for individuals\n",
    "row_scaling = 1 / sqrt_eigenvalues\n",
    "\n",
    "# Scaling factors for variables\n",
    "col_scaling = sqrt_eigenvalues"
   ]
  },
  {
   "cell_type": "markdown",
   "id": "da96b2b6-0915-45c7-8d04-bb57836c5180",
   "metadata": {},
   "source": [
    "#### 11. HJ-Biplot"
   ]
  },
  {
   "cell_type": "code",
   "execution_count": null,
   "id": "98377d7f-7ce1-4726-abfa-f1eff3106065",
   "metadata": {},
   "outputs": [],
   "source": [
    "plt.figure(figsize=(12, 8))\n",
    "\n",
    "# Plot individuals\n",
    "for i in range(principalComponents.shape[0]):\n",
    "    plt.scatter(principalComponents[i, 0] * row_scaling[0], principalComponents[i, 1] * row_scaling[1], c='r')\n",
    "\n",
    "# Plot variables\n",
    "for i in range(X.shape[1]):\n",
    "    # Arrow start at (0,0), then draw the arrows\n",
    "    plt.arrow(0, 0, pca.components_[0, i] * col_scaling[0], pca.components_[1, i] * col_scaling[1], color='b', alpha=0.5)\n",
    "    plt.text(pca.components_[0, i] * col_scaling[0] * 1.2, pca.components_[1, i] * col_scaling[1] * 1.2, krm_soil_df.columns[i], color='g')\n",
    "\n",
    "plt.xlabel('PC1')\n",
    "plt.ylabel('PC2')\n",
    "plt.title('HJ-Biplot')\n",
    "plt.grid(True)\n",
    "plt.show()"
   ]
  },
  {
   "cell_type": "markdown",
   "id": "32e3b1c7-b8fd-48a8-8f0c-f80bd07c1090",
   "metadata": {},
   "source": [
    "#### 12.  KRM Boxplot"
   ]
  },
  {
   "cell_type": "code",
   "execution_count": null,
   "id": "f6dfa008-c77d-47d1-8080-b9bb257b2276",
   "metadata": {},
   "outputs": [],
   "source": [
    "sns.set_style(\"whitegrid\")\n",
    "plt.figure(figsize=(12, 8))\n",
    "\n",
    "# Create a boxplot for each variable\n",
    "sns.boxplot(data=krm_soil_df)\n",
    "\n",
    "# Set title and labels (adjust as necessary)\n",
    "plt.title('Boxplots of Variables in krm_soil_df')\n",
    "plt.xlabel('Variables')\n",
    "plt.ylabel('Values')\n",
    "plt.show()"
   ]
  },
  {
   "cell_type": "markdown",
   "id": "5aff74f1-7805-4620-829f-f306baf98daa",
   "metadata": {},
   "source": [
    "#### 13. Transform and create a new data frame!!!"
   ]
  },
  {
   "cell_type": "code",
   "execution_count": null,
   "id": "a9fb7883-2fe7-4abc-8f76-1ca7c598dd12",
   "metadata": {},
   "outputs": [],
   "source": [
    "# Remove unused 'id' column\n",
    "\n",
    "if 'id' in soil_icp_df.columns:\n",
    "    soil_icp_df.drop('id', axis=1, inplace=True)\n",
    "\n",
    "if 'id' in soil_hhxrf_df.columns:\n",
    "    soil_hhxrf_df.drop('id', axis=1, inplace=True)\n",
    "\n",
    "# Define the columns of interest for zero replacement\n",
    "columns_to_replace = soil_icp_df.columns[3:]  # All columns after 'rep'\n",
    "\n",
    "# Zero replacement to ensure it is applied correctly to loaded DataFrames\n",
    "def replace_zeros_with_real_data(soil_icp_df, soil_hhxrf_df, columns_to_replace):\n",
    "\n",
    "    # Create a copy of soil_icp_df to work with and keep the original data intact\n",
    "    soil_mix_df = soil_icp_df.copy()\n",
    "   \n",
    "    # Iterate through rows of soil_icp_df\n",
    "    for idx, row in soil_mix_df.iterrows():\n",
    "\n",
    "        # Identify columns with zeros\n",
    "        zero_columns = row[columns_to_replace] == 0\n",
    "        zero_columns_names = zero_columns[zero_columns].index.tolist()\n",
    "       \n",
    "        # Continue only if there are zeros in the current row\n",
    "        if zero_columns.any():\n",
    "\n",
    "            # Find a row in soil_hhxrf_df that matches 'soil', 'sample', and 'rep'\n",
    "            match = soil_hhxrf_df[\n",
    "                (soil_hhxrf_df['soil'] == row['soil']) &\n",
    "                (soil_hhxrf_df['sample'] == row['sample']) &\n",
    "                (soil_hhxrf_df['rep'] == row['rep'])\n",
    "            ]\n",
    "\n",
    "            # If there is a corresponding row in soil_hhxrf_df and the values are non-zero, replace them in soil_mix_df\n",
    "            if not match.empty:\n",
    "                for column in zero_columns_names:\n",
    "                    if match.iloc[0][column] != 0:\n",
    "                        soil_mix_df.at[idx, column] = match.iloc[0][column]\n",
    "   \n",
    "    return soil_mix_df\n",
    "\n",
    "# Call replace function with actual data\n",
    "soil_mix_df_final = replace_zeros_with_real_data(soil_icp_df, soil_hhxrf_df, columns_to_replace)\n",
    "\n",
    "# Show the corrected result with the real data\n",
    "soil_mix_df_final.head()\n",
    "soil_mix_df_final.to_csv('soil_mix_df_final.csv', index=False)"
   ]
  },
  {
   "cell_type": "markdown",
   "id": "f10b1b6f-7546-4e65-951f-6069b9e4681b",
   "metadata": {},
   "source": [
    "#### 14. Checking if the new ICP values are in the range"
   ]
  },
  {
   "cell_type": "code",
   "execution_count": null,
   "id": "8dfe6a20-1bfb-4445-bd62-09d0decddc06",
   "metadata": {},
   "outputs": [],
   "source": [
    "index_column = soil_icp_df.iloc[:, 0]\n",
    "\n",
    "# Agregamos esta columna a 'soil_mix_df_final'. \n",
    "# Puedes cambiar 'nombre_nueva_columna' por el nombre real que quieras darle a la columna.\n",
    "\n",
    "if 'id' not in soil_mix_df_final.columns:\n",
    "    index_column = soil_icp_df.iloc[:, 0]\n",
    "    soil_mix_df_final.insert(0, 'id', index_column)\n",
    "else:\n",
    "    print(\"Column 'id' already exists in soil_mix_df_final.\")\n",
    "\n",
    "# Mostramos el dataframe final para verificar\n",
    "print(soil_mix_df_final)\n",
    "\n",
    "# Initialize the new DataFrame\n",
    "icp_classification_mix = ['id'] + list(soil_mix_df_final.columns[1:4]) + nutrients_sandy[1:]\n",
    "icp_classification_mix_df = pd.DataFrame(columns=icp_classification_mix)\n",
    "\n",
    "# Iterate over soil_mix_df_final to fill icp_classification_mix_df\n",
    "for id, row in soil_mix_df_final.iterrows():\n",
    "    new_id = id + 1\n",
    "    new_row = [new_id] + list(row[1:4])\n",
    "\n",
    "    # Determine soil type\n",
    "    soil_name = row.iloc[1]\n",
    "    soil_type = soil_types_df[soil_types_df['soil'] == soil_name]['type'].iloc[0]\n",
    "\n",
    "    # Select the appropriate nutrient range table\n",
    "    nutrient_range_df = sandy_soil_nutrient_range if soil_type == 'sandy' else soil_medium_nutrient_range\n",
    "\n",
    "    # Compare and categorize values\n",
    "    for element in nutrients_sandy[1:]:\n",
    "        element_value = row[element]\n",
    "\n",
    "        if element_value == 0:  # Check if the value is zero\n",
    "            category = 'NA'  # Assign None (which will be NULL in CSV)\n",
    "        else:\n",
    "            lower_limit = float(nutrient_range_df[nutrient_range_df['limit'] == 'inferior'][element].iloc[0])\n",
    "            upper_limit = float(nutrient_range_df[nutrient_range_df['limit'] == 'superior'][element].iloc[0])\n",
    "\n",
    "            if element_value < lower_limit:\n",
    "                category = 'low'\n",
    "            elif element_value > upper_limit:\n",
    "                category = 'high'\n",
    "            else:\n",
    "                category = 'optimum'\n",
    "        \n",
    "        new_row.append(category)\n",
    "\n",
    "    icp_classification_mix_df.loc[new_id] = new_row"
   ]
  },
  {
   "cell_type": "markdown",
   "id": "0796620f-e243-4630-b853-77b11683da98",
   "metadata": {},
   "source": [
    "#### Export icp_classification_mix_df to a CSV file"
   ]
  },
  {
   "cell_type": "code",
   "execution_count": null,
   "id": "4eb86979-8f13-4ea0-8577-d6052220d2f5",
   "metadata": {},
   "outputs": [],
   "source": [
    "icp_classification_mix_df.to_csv('icp_classification_mix_df.csv', index=False)\n",
    "print(icp_classification_mix_df)"
   ]
  },
  {
   "cell_type": "markdown",
   "id": "fe256656-f6c2-48bc-8963-6f74841fec1f",
   "metadata": {},
   "source": [
    "#### 15. Count each type of classification in new dataframe"
   ]
  },
  {
   "cell_type": "code",
   "execution_count": null,
   "id": "349bf6b6-7167-4cea-a486-551126c9bb51",
   "metadata": {},
   "outputs": [],
   "source": [
    "soil_column = icp_classification_mix_df.columns[1]\n",
    "\n",
    "def calculate_element_counts(element_column):\n",
    "    # Group by soil type and count occurrences of each classification, including 'NA' as a string\n",
    "    element_counts = icp_classification_mix_df.groupby(soil_column)[element_column].value_counts().unstack(fill_value=0)\n",
    "\n",
    "    # Add missing columns with default value 0 if they do not exist\n",
    "    for col in ['NA', 'optimum', 'low', 'high']:\n",
    "        if col not in element_counts.columns:\n",
    "            element_counts[col] = 0\n",
    "\n",
    "    # Reorder columns\n",
    "    element_counts = element_counts[['NA', 'optimum', 'low', 'high']]\n",
    "\n",
    "    # Reset index to make 'soil' a column\n",
    "    element_counts.reset_index(inplace=True)\n",
    "\n",
    "    return element_counts\n",
    "\n",
    "# List of element columns to process\n",
    "elements = ['B', 'Mg', 'P', 'S', 'K', 'Ca', 'Mn', 'Fe', 'Cu', 'Zn']\n",
    "\n",
    "# Calculate and print counts for each element\n",
    "for element in elements:\n",
    "    element_counts = calculate_element_counts(element)\n",
    "    print(f\"--{element} table--\")\n",
    "    print(element_counts)"
   ]
  },
  {
   "cell_type": "markdown",
   "id": "2842e53c-fea2-4942-aae6-c67ef449befd",
   "metadata": {},
   "source": [
    "#### 16. Bar charts for each element in new data frame"
   ]
  },
  {
   "cell_type": "code",
   "execution_count": null,
   "id": "709e44f4-0f59-45c7-9da6-9cb1634a6a74",
   "metadata": {},
   "outputs": [],
   "source": [
    "def plot_element_counts(element_counts, element_name):\n",
    "    # Set figure size for better readability\n",
    "    plt.figure(figsize=(12, 6))\n",
    "\n",
    "    # Number of soil types\n",
    "    n_soils = len(element_counts)\n",
    "    # Width of a bar\n",
    "    bar_width = 0.2\n",
    "\n",
    "    # Positions of bars on the x-axis\n",
    "    r1 = np.arange(n_soils)\n",
    "    r2 = [x + bar_width for x in r1]\n",
    "    r3 = [x + bar_width for x in r2]\n",
    "    r4 = [x + bar_width for x in r3]\n",
    "\n",
    "    # Plotting the data\n",
    "    plt.bar(r1, element_counts['NA'], color='b', width=bar_width, edgecolor='gray', label='NA')\n",
    "    plt.bar(r2, element_counts['optimum'], color='g', width=bar_width, edgecolor='gray', label='optimum')\n",
    "    plt.bar(r3, element_counts['low'], color='r', width=bar_width, edgecolor='gray', label='low')\n",
    "    plt.bar(r4, element_counts['high'], color='y', width=bar_width, edgecolor='gray', label='high')\n",
    "\n",
    "    # Adding labels and title\n",
    "    plt.xlabel('Soil Type', fontweight='bold')\n",
    "    plt.ylabel('Frequency', fontweight='bold')\n",
    "    plt.xticks([r + bar_width/2 for r in range(n_soils)], element_counts[soil_column], rotation=45)\n",
    "    plt.title(f'Frequency of {element_name} Classifications by Soil Type')\n",
    "    plt.legend()\n",
    "\n",
    "    # Show plot\n",
    "    plt.tight_layout()\n",
    "    plt.show()"
   ]
  },
  {
   "cell_type": "markdown",
   "id": "8f29bbea-0d9a-493c-8c76-769349404e1a",
   "metadata": {},
   "source": [
    "#### Calculate counts and plot graph for each element"
   ]
  },
  {
   "cell_type": "code",
   "execution_count": null,
   "id": "79b86ebf-92f9-4b2f-9b8a-1dd02fdaf1b9",
   "metadata": {},
   "outputs": [],
   "source": [
    "for element in elements:\n",
    "    element_counts = calculate_element_counts(element)\n",
    "    plot_element_counts(element_counts, element)"
   ]
  }
 ],
 "metadata": {
  "kernelspec": {
   "display_name": "Python 3 (ipykernel)",
   "language": "python",
   "name": "python3"
  },
  "language_info": {
   "codemirror_mode": {
    "name": "ipython",
    "version": 3
   },
   "file_extension": ".py",
   "mimetype": "text/x-python",
   "name": "python",
   "nbconvert_exporter": "python",
   "pygments_lexer": "ipython3",
   "version": "3.11.7"
  }
 },
 "nbformat": 4,
 "nbformat_minor": 5
}
