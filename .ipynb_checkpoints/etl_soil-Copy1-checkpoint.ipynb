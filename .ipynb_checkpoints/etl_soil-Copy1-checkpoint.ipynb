{
 "cells": [
  {
   "cell_type": "markdown",
   "id": "2e20f891-e8a9-486d-9a45-11f66f2014a9",
   "metadata": {},
   "source": [
    "# IMPUTATION Notebook from imputation.py"
   ]
  },
  {
   "cell_type": "markdown",
   "id": "b6e7b518-98d8-423a-be84-e5ccfb49204d",
   "metadata": {},
   "source": [
    "### Install project's libraries"
   ]
  },
  {
   "cell_type": "code",
   "execution_count": 2,
   "id": "c73530fc-7af5-46a3-9779-9f1c9e0b5623",
   "metadata": {},
   "outputs": [
    {
     "name": "stdout",
     "output_type": "stream",
     "text": [
      "Requirement already satisfied: factor_analyzer==0.5.0 in /home/jroa/.local/lib/python3.11/site-packages (from -r requirements.txt (line 1)) (0.5.0)\n",
      "Requirement already satisfied: matplotlib==3.8.2 in /home/jroa/.local/lib/python3.11/site-packages (from -r requirements.txt (line 2)) (3.8.2)\n",
      "Requirement already satisfied: numpy==1.26.4 in /home/jroa/.conda/envs/agronomist/lib/python3.11/site-packages (from -r requirements.txt (line 3)) (1.26.4)\n",
      "Requirement already satisfied: pandas==2.2.0 in /home/jroa/.local/lib/python3.11/site-packages (from -r requirements.txt (line 4)) (2.2.0)\n",
      "Requirement already satisfied: python-dotenv==1.0.1 in /home/jroa/.local/lib/python3.11/site-packages (from -r requirements.txt (line 5)) (1.0.1)\n",
      "Requirement already satisfied: scikit_learn==1.3.2 in /home/jroa/.local/lib/python3.11/site-packages (from -r requirements.txt (line 6)) (1.3.2)\n",
      "Requirement already satisfied: seaborn==0.13.2 in /home/jroa/.local/lib/python3.11/site-packages (from -r requirements.txt (line 7)) (0.13.2)\n",
      "Requirement already satisfied: SQLAlchemy==2.0.25 in /home/jroa/.local/lib/python3.11/site-packages (from -r requirements.txt (line 8)) (2.0.25)\n",
      "Requirement already satisfied: openpyxl==3.1.2 in /home/jroa/.local/lib/python3.11/site-packages (from -r requirements.txt (line 9)) (3.1.2)\n",
      "Requirement already satisfied: mariadb==1.1.10 in /home/jroa/.local/lib/python3.11/site-packages (from -r requirements.txt (line 10)) (1.1.10)\n",
      "Requirement already satisfied: Pillow in /home/jroa/.conda/envs/agronomist/lib/python3.11/site-packages (from -r requirements.txt (line 11)) (10.2.0)\n",
      "Requirement already satisfied: fancyimpute==0.7.0 in /home/jroa/.conda/envs/agronomist/lib/python3.11/site-packages (from -r requirements.txt (line 12)) (0.7.0)\n",
      "Requirement already satisfied: torch==2.2.1+cpu in /home/jroa/.conda/envs/agronomist/lib/python3.11/site-packages (from -r requirements.txt (line 13)) (2.2.1+cpu)\n",
      "Requirement already satisfied: torchaudio==2.2.1+cpu in /home/jroa/.conda/envs/agronomist/lib/python3.11/site-packages (from -r requirements.txt (line 14)) (2.2.1+cpu)\n",
      "Requirement already satisfied: torchvision==0.17.1+cpu in /home/jroa/.conda/envs/agronomist/lib/python3.11/site-packages (from -r requirements.txt (line 15)) (0.17.1+cpu)\n",
      "Requirement already satisfied: scipy in /home/jroa/.conda/envs/agronomist/lib/python3.11/site-packages (from factor_analyzer==0.5.0->-r requirements.txt (line 1)) (1.11.4)\n",
      "Requirement already satisfied: pre-commit in /home/jroa/.local/lib/python3.11/site-packages (from factor_analyzer==0.5.0->-r requirements.txt (line 1)) (3.6.2)\n",
      "Requirement already satisfied: contourpy>=1.0.1 in /home/jroa/.local/lib/python3.11/site-packages (from matplotlib==3.8.2->-r requirements.txt (line 2)) (1.2.0)\n",
      "Requirement already satisfied: cycler>=0.10 in /home/jroa/.local/lib/python3.11/site-packages (from matplotlib==3.8.2->-r requirements.txt (line 2)) (0.12.1)\n",
      "Requirement already satisfied: fonttools>=4.22.0 in /home/jroa/.local/lib/python3.11/site-packages (from matplotlib==3.8.2->-r requirements.txt (line 2)) (4.47.2)\n",
      "Requirement already satisfied: kiwisolver>=1.3.1 in /home/jroa/.local/lib/python3.11/site-packages (from matplotlib==3.8.2->-r requirements.txt (line 2)) (1.4.5)\n",
      "Requirement already satisfied: packaging>=20.0 in /home/jroa/.conda/envs/agronomist/lib/python3.11/site-packages (from matplotlib==3.8.2->-r requirements.txt (line 2)) (23.1)\n",
      "Requirement already satisfied: pyparsing>=2.3.1 in /home/jroa/.local/lib/python3.11/site-packages (from matplotlib==3.8.2->-r requirements.txt (line 2)) (3.1.1)\n",
      "Requirement already satisfied: python-dateutil>=2.7 in /home/jroa/.local/lib/python3.11/site-packages (from matplotlib==3.8.2->-r requirements.txt (line 2)) (2.8.2)\n",
      "Requirement already satisfied: pytz>=2020.1 in /home/jroa/.local/lib/python3.11/site-packages (from pandas==2.2.0->-r requirements.txt (line 4)) (2024.1)\n",
      "Requirement already satisfied: tzdata>=2022.7 in /home/jroa/.local/lib/python3.11/site-packages (from pandas==2.2.0->-r requirements.txt (line 4)) (2024.1)\n",
      "Requirement already satisfied: joblib>=1.1.1 in /home/jroa/.local/lib/python3.11/site-packages (from scikit_learn==1.3.2->-r requirements.txt (line 6)) (1.3.2)\n",
      "Requirement already satisfied: threadpoolctl>=2.0.0 in /home/jroa/.local/lib/python3.11/site-packages (from scikit_learn==1.3.2->-r requirements.txt (line 6)) (3.3.0)\n",
      "Requirement already satisfied: typing-extensions>=4.6.0 in /home/jroa/.local/lib/python3.11/site-packages (from SQLAlchemy==2.0.25->-r requirements.txt (line 8)) (4.9.0)\n",
      "Requirement already satisfied: greenlet!=0.4.17 in /home/jroa/.local/lib/python3.11/site-packages (from SQLAlchemy==2.0.25->-r requirements.txt (line 8)) (3.0.3)\n",
      "Requirement already satisfied: et-xmlfile in /home/jroa/.local/lib/python3.11/site-packages (from openpyxl==3.1.2->-r requirements.txt (line 9)) (1.1.0)\n",
      "Requirement already satisfied: knnimpute>=0.1.0 in /home/jroa/.conda/envs/agronomist/lib/python3.11/site-packages (from fancyimpute==0.7.0->-r requirements.txt (line 12)) (0.1.0)\n",
      "Requirement already satisfied: cvxpy in /home/jroa/.conda/envs/agronomist/lib/python3.11/site-packages (from fancyimpute==0.7.0->-r requirements.txt (line 12)) (1.4.2)\n",
      "Requirement already satisfied: cvxopt in /home/jroa/.conda/envs/agronomist/lib/python3.11/site-packages (from fancyimpute==0.7.0->-r requirements.txt (line 12)) (1.3.2)\n",
      "Requirement already satisfied: pytest in /home/jroa/.local/lib/python3.11/site-packages (from fancyimpute==0.7.0->-r requirements.txt (line 12)) (7.4.4)\n",
      "Requirement already satisfied: nose in /home/jroa/.conda/envs/agronomist/lib/python3.11/site-packages (from fancyimpute==0.7.0->-r requirements.txt (line 12)) (1.3.7)\n",
      "Requirement already satisfied: filelock in /home/jroa/.local/lib/python3.11/site-packages (from torch==2.2.1+cpu->-r requirements.txt (line 13)) (3.13.1)\n",
      "Requirement already satisfied: sympy in /home/jroa/.conda/envs/agronomist/lib/python3.11/site-packages (from torch==2.2.1+cpu->-r requirements.txt (line 13)) (1.12)\n",
      "Requirement already satisfied: networkx in /home/jroa/.local/lib/python3.11/site-packages (from torch==2.2.1+cpu->-r requirements.txt (line 13)) (3.2.1)\n",
      "Requirement already satisfied: jinja2 in /home/jroa/.local/lib/python3.11/site-packages (from torch==2.2.1+cpu->-r requirements.txt (line 13)) (3.1.3)\n",
      "Requirement already satisfied: fsspec in /home/jroa/.conda/envs/agronomist/lib/python3.11/site-packages (from torch==2.2.1+cpu->-r requirements.txt (line 13)) (2023.4.0)\n",
      "Requirement already satisfied: six in /home/jroa/.local/lib/python3.11/site-packages (from knnimpute>=0.1.0->fancyimpute==0.7.0->-r requirements.txt (line 12)) (1.16.0)\n",
      "Requirement already satisfied: osqp>=0.6.2 in /home/jroa/.conda/envs/agronomist/lib/python3.11/site-packages (from cvxpy->fancyimpute==0.7.0->-r requirements.txt (line 12)) (0.6.5)\n",
      "Requirement already satisfied: ecos>=2 in /home/jroa/.conda/envs/agronomist/lib/python3.11/site-packages (from cvxpy->fancyimpute==0.7.0->-r requirements.txt (line 12)) (2.0.13)\n",
      "Requirement already satisfied: clarabel>=0.5.0 in /home/jroa/.conda/envs/agronomist/lib/python3.11/site-packages (from cvxpy->fancyimpute==0.7.0->-r requirements.txt (line 12)) (0.7.1)\n",
      "Requirement already satisfied: scs>=3.0 in /home/jroa/.conda/envs/agronomist/lib/python3.11/site-packages (from cvxpy->fancyimpute==0.7.0->-r requirements.txt (line 12)) (3.2.4.post1)\n",
      "Requirement already satisfied: pybind11 in /home/jroa/.conda/envs/agronomist/lib/python3.11/site-packages (from cvxpy->fancyimpute==0.7.0->-r requirements.txt (line 12)) (2.11.1)\n",
      "Requirement already satisfied: MarkupSafe>=2.0 in /home/jroa/.local/lib/python3.11/site-packages (from jinja2->torch==2.2.1+cpu->-r requirements.txt (line 13)) (2.1.4)\n",
      "Requirement already satisfied: cfgv>=2.0.0 in /home/jroa/.local/lib/python3.11/site-packages (from pre-commit->factor_analyzer==0.5.0->-r requirements.txt (line 1)) (3.4.0)\n",
      "Requirement already satisfied: identify>=1.0.0 in /home/jroa/.local/lib/python3.11/site-packages (from pre-commit->factor_analyzer==0.5.0->-r requirements.txt (line 1)) (2.5.35)\n",
      "Requirement already satisfied: nodeenv>=0.11.1 in /home/jroa/.local/lib/python3.11/site-packages (from pre-commit->factor_analyzer==0.5.0->-r requirements.txt (line 1)) (1.8.0)\n",
      "Requirement already satisfied: pyyaml>=5.1 in /home/jroa/.local/lib/python3.11/site-packages (from pre-commit->factor_analyzer==0.5.0->-r requirements.txt (line 1)) (6.0.1)\n",
      "Requirement already satisfied: virtualenv>=20.10.0 in /home/jroa/.local/lib/python3.11/site-packages (from pre-commit->factor_analyzer==0.5.0->-r requirements.txt (line 1)) (20.25.0)\n",
      "Requirement already satisfied: iniconfig in /home/jroa/.local/lib/python3.11/site-packages (from pytest->fancyimpute==0.7.0->-r requirements.txt (line 12)) (2.0.0)\n",
      "Requirement already satisfied: pluggy<2.0,>=0.12 in /home/jroa/.conda/envs/agronomist/lib/python3.11/site-packages (from pytest->fancyimpute==0.7.0->-r requirements.txt (line 12)) (1.4.0)\n",
      "Requirement already satisfied: mpmath>=0.19 in /home/jroa/.conda/envs/agronomist/lib/python3.11/site-packages (from sympy->torch==2.2.1+cpu->-r requirements.txt (line 13)) (1.3.0)\n",
      "Requirement already satisfied: setuptools in /home/jroa/.local/lib/python3.11/site-packages (from nodeenv>=0.11.1->pre-commit->factor_analyzer==0.5.0->-r requirements.txt (line 1)) (67.8.0)\n",
      "Requirement already satisfied: qdldl in /home/jroa/.conda/envs/agronomist/lib/python3.11/site-packages (from osqp>=0.6.2->cvxpy->fancyimpute==0.7.0->-r requirements.txt (line 12)) (0.1.7.post0)\n",
      "Requirement already satisfied: distlib<1,>=0.3.7 in /home/jroa/.local/lib/python3.11/site-packages (from virtualenv>=20.10.0->pre-commit->factor_analyzer==0.5.0->-r requirements.txt (line 1)) (0.3.8)\n",
      "Requirement already satisfied: platformdirs<5,>=3.9.1 in /home/jroa/.local/lib/python3.11/site-packages (from virtualenv>=20.10.0->pre-commit->factor_analyzer==0.5.0->-r requirements.txt (line 1)) (4.1.0)\n",
      "Note: you may need to restart the kernel to use updated packages.\n"
     ]
    }
   ],
   "source": [
    "%pwd\n",
    "%pip install -r requirements.txt"
   ]
  },
  {
   "cell_type": "markdown",
   "id": "bd21961c-fb29-4edc-8d0d-4326eaa3b603",
   "metadata": {},
   "source": [
    "## Import system and project libraries"
   ]
  },
  {
   "cell_type": "code",
   "execution_count": 3,
   "id": "166747fa-a75f-4355-895a-c91ee543139e",
   "metadata": {},
   "outputs": [],
   "source": [
    "import pandas as pd\n",
    "import numpy as np\n",
    "from sklearn.metrics import mean_squared_error, mean_absolute_error\n",
    "import matplotlib.pyplot as plt\n",
    "import seaborn as sns\n",
    "from scipy.stats import zscore"
   ]
  },
  {
   "cell_type": "code",
   "execution_count": 4,
   "id": "68732532-e5ab-4893-9397-eb8648040594",
   "metadata": {},
   "outputs": [],
   "source": [
    "# For Expectation-Maximization\n",
    "from sklearn.experimental import enable_iterative_imputer\n",
    "from sklearn.impute import IterativeImputer\n",
    "# For K-Nearest Neighbors\n",
    "from sklearn.impute import KNNImputer\n",
    "from sklearn.preprocessing import StandardScaler\n",
    "# For Linea Regression\n",
    "from sklearn.linear_model import LinearRegression\n",
    "# For Random Forest\n",
    "from sklearn.ensemble import RandomForestRegressor\n",
    "# For MICE\n",
    "from sklearn.linear_model import BayesianRidge\n",
    "# For Neural Network (PyTorch)\n",
    "from sklearn.preprocessing import MinMaxScaler\n",
    "import torch\n",
    "from torch.utils.data import DataLoader, TensorDataset\n",
    "import torch.nn as nn\n",
    "import torch.optim as optim\n",
    "# For SVD\n",
    "from fancyimpute import SoftImpute\n",
    "# For Matrix Factorization\n",
    "from fancyimpute import MatrixFactorization"
   ]
  },
  {
   "cell_type": "markdown",
   "id": "4530201c-ffea-45df-9337-86a59bfeea9d",
   "metadata": {},
   "source": [
    "## 0. Connect to the database and extract the data"
   ]
  },
  {
   "cell_type": "markdown",
   "id": "1184c217-c495-4ed2-80f6-29dd28860d2b",
   "metadata": {},
   "source": [
    "### Database connection"
   ]
  },
  {
   "cell_type": "code",
   "execution_count": null,
   "id": "f18d7fae-189d-4544-bf19-36ec0f055cc6",
   "metadata": {},
   "outputs": [],
   "source": [
    "# Establish the connection\n",
    "# sqlalchemy uses a standard URL for connections: \n",
    "# 'mysql+pymysql://<user>:<password>@<host>/<dbname>'\n",
    "DATABASE_CON = os.getenv('DATABASE_CON')\n",
    "\n",
    "try:\n",
    "    # Create a SQLAlchemy engine\n",
    "    engine = create_engine(DATABASE_CON)\n",
    "    # Attempt to connect to the database\n",
    "    with engine.connect() as connection:\n",
    "        print(\"Database connection established successfully.\")\n",
    "except SQLAlchemyError as e:\n",
    "    # Handle the error\n",
    "    print(f\"An error occurred when connecting to the database: {e}\")"
   ]
  },
  {
   "cell_type": "markdown",
   "id": "65eb6c4e-39c9-4e21-a2c4-f3f10ddb1e70",
   "metadata": {},
   "source": [
    "### Query to extract the soil_ICP dataframe"
   ]
  },
  {
   "cell_type": "code",
   "execution_count": null,
   "id": "c198c432-8619-401e-99ed-49ac4b48bd32",
   "metadata": {},
   "outputs": [],
   "source": [
    "soil_icp_df = pd.read_sql_query(\"\"\"\n",
    "                        -- This query extracts the information necessary to shape the soil_icp dataframe\n",
    "                        \n",
    "                        SELECT sr.id, s.name, sr.sample, sr.rep,\n",
    "                            MAX(CASE WHEN n.symbol = 'B' THEN rn.value ELSE 0 END) AS B,\n",
    "                            MAX(CASE WHEN n.symbol = 'Mg' THEN rn.value ELSE 0 END) AS Mg,\n",
    "                            MAX(CASE WHEN n.symbol = 'P' THEN rn.value ELSE 0 END) AS P,\n",
    "                            MAX(CASE WHEN n.symbol = 'S' THEN rn.value ELSE 0 END) AS S,\n",
    "                            MAX(CASE WHEN n.symbol = 'K' THEN rn.value ELSE 0 END) AS K,\n",
    "                            MAX(CASE WHEN n.symbol = 'Ca' THEN rn.value ELSE 0 END) AS Ca,\n",
    "                            MAX(CASE WHEN n.symbol = 'Mn' THEN rn.value ELSE 0 END) AS Mn,\n",
    "                            MAX(CASE WHEN n.symbol = 'Fe' THEN rn.value ELSE 0 END) AS Fe,\n",
    "                            MAX(CASE WHEN n.symbol = 'Cu' THEN rn.value ELSE 0 END) AS Cu,\n",
    "                            MAX(CASE WHEN n.symbol = 'Zn' THEN rn.value ELSE 0 END) AS Zn\n",
    "                        FROM soil_results AS sr\n",
    "                        JOIN soils AS s ON sr.soil_id = s.id\n",
    "                        JOIN result_nutrients AS rn ON sr.id = rn.soil_result_id\n",
    "                        JOIN nutrients AS n ON rn.nutrient_id = n.id\n",
    "                        WHERE sr.analysis_method_id  = 2\n",
    "                        GROUP BY sr.id\n",
    "                        ORDER BY sr.id;\"\"\", engine)\n",
    "\n",
    "soil_icp_df = soil_icp_df.rename(columns={'name': 'soil'})"
   ]
  },
  {
   "cell_type": "markdown",
   "id": "89978e67-4901-4373-a8f7-eb1d8ac8412a",
   "metadata": {},
   "source": [
    "### Query to extract the soil_HHXRF dataframe"
   ]
  },
  {
   "cell_type": "code",
   "execution_count": null,
   "id": "b6659964-ed66-4858-9980-8b3e2ce4b5d6",
   "metadata": {},
   "outputs": [],
   "source": [
    "soil_hhxrf_df = pd.read_sql_query(\"\"\"\n",
    "                        -- This query extracts the information necessary to shape the soil_icp dataframe\n",
    "                        \n",
    "                        SELECT sr.id, s.name, sr.sample, sr.rep,\n",
    "                            MAX(CASE WHEN n.symbol = 'B' THEN rn.value ELSE 0 END) AS B,\n",
    "                            MAX(CASE WHEN n.symbol = 'Mg' THEN rn.value ELSE 0 END) AS Mg,\n",
    "                            MAX(CASE WHEN n.symbol = 'P' THEN rn.value ELSE 0 END) AS P,\n",
    "                            MAX(CASE WHEN n.symbol = 'S' THEN rn.value ELSE 0 END) AS S,\n",
    "                            MAX(CASE WHEN n.symbol = 'K' THEN rn.value ELSE 0 END) AS K,\n",
    "                            MAX(CASE WHEN n.symbol = 'Ca' THEN rn.value ELSE 0 END) AS Ca,\n",
    "                            MAX(CASE WHEN n.symbol = 'Mn' THEN rn.value ELSE 0 END) AS Mn,\n",
    "                            MAX(CASE WHEN n.symbol = 'Fe' THEN rn.value ELSE 0 END) AS Fe,\n",
    "                            MAX(CASE WHEN n.symbol = 'Cu' THEN rn.value ELSE 0 END) AS Cu,\n",
    "                            MAX(CASE WHEN n.symbol = 'Zn' THEN rn.value ELSE 0 END) AS Zn\n",
    "                        FROM soil_results AS sr\n",
    "                        JOIN soils AS s ON sr.soil_id = s.id\n",
    "                        JOIN result_nutrients AS rn ON sr.id = rn.soil_result_id\n",
    "                        JOIN nutrients AS n ON rn.nutrient_id = n.id\n",
    "                        WHERE sr.analysis_method_id  = 3\n",
    "                        GROUP BY sr.id\n",
    "                        ORDER BY sr.id;\"\"\", engine)\n",
    "\n",
    "\n"
   ]
  },
  {
   "cell_type": "markdown",
   "id": "b41e5077-1d56-4a40-888a-7953035166f8",
   "metadata": {},
   "source": [
    "## 1. Import and transform dataframe"
   ]
  },
  {
   "cell_type": "code",
   "execution_count": 6,
   "id": "ec56ea23-8119-439f-9664-f44c9084ecad",
   "metadata": {},
   "outputs": [
    {
     "name": "stdout",
     "output_type": "stream",
     "text": [
      "      B      Mg        P      S       K       Ca      Mn       Fe    Cu     Zn\n",
      "0   NaN     NaN   807.96    NaN  574.62   859.11  148.69  5992.90  28.0  15.43\n",
      "1   NaN  491.76   889.15    NaN  707.79   844.07  266.10  7576.03  23.0  19.94\n",
      "2   NaN  322.18  1039.74    NaN  760.43   751.79  275.44  7326.52  30.0  22.47\n",
      "3   NaN  514.06   958.12    NaN  708.97   770.85  264.32  7580.27  27.0  20.07\n",
      "4   NaN  677.30   818.44    NaN  606.48  1019.33  190.94  6252.12  26.0  19.44\n",
      "..   ..     ...      ...    ...     ...      ...     ...      ...   ...    ...\n",
      "784 NaN  488.77  1529.99    NaN  486.19   612.38  286.13  5350.72  27.0  17.46\n",
      "785 NaN  447.40  1571.24    NaN  434.23   611.24  288.83  5353.28  25.0  17.19\n",
      "786 NaN  507.54  1643.29    NaN  535.02   642.96  314.32  5352.57  21.0  18.78\n",
      "787 NaN  374.68  1698.38  223.0  453.04   644.39  315.06  5375.89  27.0  18.74\n",
      "788 NaN  304.73  1721.79  200.0  441.16   635.62  310.12  5305.12  23.0  18.26\n",
      "\n",
      "[789 rows x 10 columns]\n"
     ]
    }
   ],
   "source": [
    "soil_mix_df_final = pd.read_csv('soil_mix_df_final.csv')\n",
    "\n",
    "\n",
    "\n"
   ]
  },
  {
   "cell_type": "markdown",
   "id": "280aaccb-9ac4-46d5-a63a-76c80b5b5a23",
   "metadata": {},
   "source": [
    "### Delete the first 3 columns that are not necessary"
   ]
  },
  {
   "cell_type": "code",
   "execution_count": 7,
   "id": "aa630a0a-eedb-4a38-9d1e-9a78857701e1",
   "metadata": {},
   "outputs": [],
   "source": [
    "soil_mix_cleaned = soil_mix_df_final.drop(['soil', 'sample', 'rep'], axis = 1)"
   ]
  },
  {
   "cell_type": "markdown",
   "id": "16ef06d7-f0d2-424a-8fd4-faad0fd869dd",
   "metadata": {},
   "source": [
    "### Replace zeros with NaN for imputation"
   ]
  },
  {
   "cell_type": "code",
   "execution_count": 8,
   "id": "06fd3c69-f505-40fc-815a-a234b35adbda",
   "metadata": {},
   "outputs": [
    {
     "name": "stdout",
     "output_type": "stream",
     "text": [
      "      B      Mg        P      S       K       Ca      Mn       Fe    Cu     Zn\n",
      "0   NaN     NaN   807.96    NaN  574.62   859.11  148.69  5992.90  28.0  15.43\n",
      "1   NaN  491.76   889.15    NaN  707.79   844.07  266.10  7576.03  23.0  19.94\n",
      "2   NaN  322.18  1039.74    NaN  760.43   751.79  275.44  7326.52  30.0  22.47\n",
      "3   NaN  514.06   958.12    NaN  708.97   770.85  264.32  7580.27  27.0  20.07\n",
      "4   NaN  677.30   818.44    NaN  606.48  1019.33  190.94  6252.12  26.0  19.44\n",
      "..   ..     ...      ...    ...     ...      ...     ...      ...   ...    ...\n",
      "784 NaN  488.77  1529.99    NaN  486.19   612.38  286.13  5350.72  27.0  17.46\n",
      "785 NaN  447.40  1571.24    NaN  434.23   611.24  288.83  5353.28  25.0  17.19\n",
      "786 NaN  507.54  1643.29    NaN  535.02   642.96  314.32  5352.57  21.0  18.78\n",
      "787 NaN  374.68  1698.38  223.0  453.04   644.39  315.06  5375.89  27.0  18.74\n",
      "788 NaN  304.73  1721.79  200.0  441.16   635.62  310.12  5305.12  23.0  18.26\n",
      "\n",
      "[789 rows x 10 columns]\n"
     ]
    }
   ],
   "source": [
    "soil_mix_cleaned.replace(0, np.nan, inplace = True)\n",
    "print(soil_mix_cleaned)"
   ]
  },
  {
   "cell_type": "markdown",
   "id": "55b1170e-bba4-4a00-8c63-239bba8d1431",
   "metadata": {},
   "source": [
    "## 2. Imputation using Expectation-Maximization (EM) "
   ]
  },
  {
   "cell_type": "markdown",
   "id": "e2da3be6-502b-4dfc-946a-b1d341aa93b7",
   "metadata": {},
   "source": [
    "### EM using sklearn's IterativeImputer, considering NAs now as NaN"
   ]
  },
  {
   "cell_type": "code",
   "execution_count": 9,
   "id": "a01cb8d6-66f4-4d65-9e3e-a18fd1d7db0d",
   "metadata": {},
   "outputs": [
    {
     "name": "stdout",
     "output_type": "stream",
     "text": [
      "             B          Mg        P           S       K       Ca      Mn  \\\n",
      "0    35.430337  412.709634   807.96  286.425832  574.62   859.11  148.69   \n",
      "1    41.096779  491.760000   889.15  255.279353  707.79   844.07  266.10   \n",
      "2    45.009479  322.180000  1039.74  322.468911  760.43   751.79  275.44   \n",
      "3    41.957018  514.060000   958.12  273.057413  708.97   770.85  264.32   \n",
      "4    33.456667  677.300000   818.44  243.097983  606.48  1019.33  190.94   \n",
      "..         ...         ...      ...         ...     ...      ...     ...   \n",
      "784  27.148686  488.770000  1529.99  242.272562  486.19   612.38  286.13   \n",
      "785  25.897144  447.400000  1571.24  234.818174  434.23   611.24  288.83   \n",
      "786  25.591342  507.540000  1643.29  204.237060  535.02   642.96  314.32   \n",
      "787  25.605732  374.680000  1698.38  223.000000  453.04   644.39  315.06   \n",
      "788  24.119592  304.730000  1721.79  200.000000  441.16   635.62  310.12   \n",
      "\n",
      "          Fe    Cu     Zn  \n",
      "0    5992.90  28.0  15.43  \n",
      "1    7576.03  23.0  19.94  \n",
      "2    7326.52  30.0  22.47  \n",
      "3    7580.27  27.0  20.07  \n",
      "4    6252.12  26.0  19.44  \n",
      "..       ...   ...    ...  \n",
      "784  5350.72  27.0  17.46  \n",
      "785  5353.28  25.0  17.19  \n",
      "786  5352.57  21.0  18.78  \n",
      "787  5375.89  27.0  18.74  \n",
      "788  5305.12  23.0  18.26  \n",
      "\n",
      "[789 rows x 10 columns]\n"
     ]
    }
   ],
   "source": [
    "imputer = IterativeImputer(max_iter = 10, random_state = 1)\n",
    "soil_imputed_EM = imputer.fit_transform(soil_mix_cleaned)\n",
    "soil_imputed_EM = pd.DataFrame(soil_imputed_EM, columns = soil_mix_cleaned.columns)\n",
    "print(soil_imputed_EM)"
   ]
  },
  {
   "cell_type": "markdown",
   "id": "5bc3de97-dbd8-4091-b5ba-1d6f05b69579",
   "metadata": {},
   "source": [
    "## 3. Imputation using K-Nearest Neighbors (KNN) "
   ]
  },
  {
   "cell_type": "markdown",
   "id": "0e024c15-bbd9-44e9-bf7a-6646aa7f1c7c",
   "metadata": {},
   "source": [
    "#### It is advisable to standardize data for KNN"
   ]
  },
  {
   "cell_type": "code",
   "execution_count": 15,
   "id": "0144c605-be30-4236-b657-0e3f8ecf09cd",
   "metadata": {},
   "outputs": [],
   "source": [
    "scaler = StandardScaler()\n",
    "soil_mix_scaled = scaler.fit_transform(soil_mix_cleaned)"
   ]
  },
  {
   "cell_type": "markdown",
   "id": "9f3c085c-5b8f-4458-8356-2813680265e5",
   "metadata": {},
   "source": [
    "#### Imputation"
   ]
  },
  {
   "cell_type": "code",
   "execution_count": 37,
   "id": "9bc32c9a-4b0a-43d9-9e7e-31b56f96a87e",
   "metadata": {},
   "outputs": [],
   "source": [
    "imputer_knn = KNNImputer(n_neighbors = 5, weights = \"uniform\")\n",
    "soil_imputed_KNN = imputer_knn.fit_transform(soil_mix_scaled)"
   ]
  },
  {
   "cell_type": "markdown",
   "id": "498da761-0214-4abb-8685-2c1d261ac396",
   "metadata": {},
   "source": [
    "## Convert back to DataFrame and undo standardization"
   ]
  },
  {
   "cell_type": "code",
   "execution_count": 38,
   "id": "7edc5eb4-e633-4336-a123-7e0ddc430fcf",
   "metadata": {},
   "outputs": [
    {
     "name": "stdout",
     "output_type": "stream",
     "text": [
      "          B       Mg        P        S       K       Ca      Mn       Fe  \\\n",
      "0    38.024  339.488   807.96  246.200  574.62   859.11  148.69  5992.90   \n",
      "1    78.278  491.760   889.15  142.168  707.79   844.07  266.10  7576.03   \n",
      "2    78.278  322.180  1039.74  273.600  760.43   751.79  275.44  7326.52   \n",
      "3    78.278  514.060   958.12  133.168  708.97   770.85  264.32  7580.27   \n",
      "4    34.630  677.300   818.44  224.600  606.48  1019.33  190.94  6252.12   \n",
      "..      ...      ...      ...      ...     ...      ...     ...      ...   \n",
      "784  35.588  488.770  1529.99  339.600  486.19   612.38  286.13  5350.72   \n",
      "785  56.496  447.400  1571.24  282.200  434.23   611.24  288.83  5353.28   \n",
      "786  33.648  507.540  1643.29  268.600  535.02   642.96  314.32  5352.57   \n",
      "787  62.200  374.680  1698.38  223.000  453.04   644.39  315.06  5375.89   \n",
      "788  62.200  304.730  1721.79  200.000  441.16   635.62  310.12  5305.12   \n",
      "\n",
      "       Cu     Zn  \n",
      "0    28.0  15.43  \n",
      "1    23.0  19.94  \n",
      "2    30.0  22.47  \n",
      "3    27.0  20.07  \n",
      "4    26.0  19.44  \n",
      "..    ...    ...  \n",
      "784  27.0  17.46  \n",
      "785  25.0  17.19  \n",
      "786  21.0  18.78  \n",
      "787  27.0  18.74  \n",
      "788  23.0  18.26  \n",
      "\n",
      "[789 rows x 10 columns]\n"
     ]
    }
   ],
   "source": [
    "soil_imputed_KNN = pd.DataFrame(scaler.inverse_transform(soil_imputed_KNN), columns = soil_mix_cleaned.columns)\n",
    "print(soil_imputed_KNN)"
   ]
  },
  {
   "cell_type": "code",
   "execution_count": 39,
   "id": "d8bc5b65-9147-4c1f-8a05-516c52a1157b",
   "metadata": {},
   "outputs": [
    {
     "name": "stderr",
     "output_type": "stream",
     "text": [
      "/home/jroa/.local/lib/python3.11/site-packages/sklearn/impute/_iterative.py:800: ConvergenceWarning: [IterativeImputer] Early stopping criterion not reached.\n",
      "  warnings.warn(\n"
     ]
    }
   ],
   "source": [
    "imputer_linear = IterativeImputer(estimator=LinearRegression(), max_iter = 10, random_state = 2)\n",
    "soil_imputed_linear = imputer_linear.fit_transform(soil_mix_cleaned)"
   ]
  },
  {
   "cell_type": "markdown",
   "id": "8c5c2db3-ef17-49c0-a20a-ba23c4431b2d",
   "metadata": {},
   "source": [
    "## 4. Imputation using Linear Regression"
   ]
  },
  {
   "cell_type": "code",
   "execution_count": 40,
   "id": "c4fe6b8e-c887-42ea-b6c1-39da39e71ffc",
   "metadata": {},
   "outputs": [
    {
     "name": "stderr",
     "output_type": "stream",
     "text": [
      "/home/jroa/.local/lib/python3.11/site-packages/sklearn/impute/_iterative.py:800: ConvergenceWarning: [IterativeImputer] Early stopping criterion not reached.\n",
      "  warnings.warn(\n"
     ]
    }
   ],
   "source": [
    "imputer_linear = IterativeImputer(estimator=LinearRegression(), max_iter = 10, random_state = 2)\n",
    "soil_imputed_linear = imputer_linear.fit_transform(soil_mix_cleaned)"
   ]
  },
  {
   "cell_type": "markdown",
   "id": "5c6310f1-b058-4da4-94d3-04c5d8000772",
   "metadata": {},
   "source": [
    "### Converting back to DataFrame"
   ]
  },
  {
   "cell_type": "code",
   "execution_count": 41,
   "id": "15f3a2de-ae41-42ce-9a45-7800e4aeb481",
   "metadata": {},
   "outputs": [
    {
     "name": "stdout",
     "output_type": "stream",
     "text": [
      "             B          Mg        P           S       K       Ca      Mn  \\\n",
      "0    45.881079  390.991448   807.96  299.038201  574.62   859.11  148.69   \n",
      "1    46.539168  491.760000   889.15  250.986637  707.79   844.07  266.10   \n",
      "2    53.171977  322.180000  1039.74  325.486342  760.43   751.79  275.44   \n",
      "3    49.591419  514.060000   958.12  275.252284  708.97   770.85  264.32   \n",
      "4    42.720432  677.300000   818.44  253.221611  606.48  1019.33  190.94   \n",
      "..         ...         ...      ...         ...     ...      ...     ...   \n",
      "784  41.508603  488.770000  1529.99  256.401751  486.19   612.38  286.13   \n",
      "785  39.400226  447.400000  1571.24  245.622078  434.23   611.24  288.83   \n",
      "786  36.882611  507.540000  1643.29  209.508728  535.02   642.96  314.32   \n",
      "787  38.527951  374.680000  1698.38  223.000000  453.04   644.39  315.06   \n",
      "788  35.249978  304.730000  1721.79  200.000000  441.16   635.62  310.12   \n",
      "\n",
      "          Fe    Cu     Zn  \n",
      "0    5992.90  28.0  15.43  \n",
      "1    7576.03  23.0  19.94  \n",
      "2    7326.52  30.0  22.47  \n",
      "3    7580.27  27.0  20.07  \n",
      "4    6252.12  26.0  19.44  \n",
      "..       ...   ...    ...  \n",
      "784  5350.72  27.0  17.46  \n",
      "785  5353.28  25.0  17.19  \n",
      "786  5352.57  21.0  18.78  \n",
      "787  5375.89  27.0  18.74  \n",
      "788  5305.12  23.0  18.26  \n",
      "\n",
      "[789 rows x 10 columns]\n"
     ]
    }
   ],
   "source": [
    "soil_imputed_linear = pd.DataFrame(soil_imputed_linear, columns = soil_mix_cleaned.columns)\n",
    "print(soil_imputed_linear)"
   ]
  },
  {
   "cell_type": "markdown",
   "id": "8e7b1ea1-c6f6-4ebc-94a3-3a5dc61116da",
   "metadata": {},
   "source": [
    "## 5. Imputation using Random Forest Regression"
   ]
  },
  {
   "cell_type": "code",
   "execution_count": 42,
   "id": "5b619882-06a7-474f-810a-b75894965646",
   "metadata": {},
   "outputs": [
    {
     "name": "stderr",
     "output_type": "stream",
     "text": [
      "/home/jroa/.local/lib/python3.11/site-packages/sklearn/impute/_iterative.py:800: ConvergenceWarning: [IterativeImputer] Early stopping criterion not reached.\n",
      "  warnings.warn(\n"
     ]
    }
   ],
   "source": [
    "imputer_rf = IterativeImputer(estimator = RandomForestRegressor(n_estimators = 100, random_state = 3), max_iter=10, random_state=0)\n",
    "soil_imputed_rf = imputer_rf.fit_transform(soil_mix_cleaned)"
   ]
  },
  {
   "cell_type": "markdown",
   "id": "2f6972a8-30b8-4016-a12c-f80d50429635",
   "metadata": {},
   "source": [
    "### Converting back to DataFrame"
   ]
  },
  {
   "cell_type": "code",
   "execution_count": 45,
   "id": "538fd4b7-b300-4fc0-8171-19044aff62e9",
   "metadata": {},
   "outputs": [
    {
     "name": "stdout",
     "output_type": "stream",
     "text": [
      "           B       Mg        P         S       K       Ca      Mn       Fe  \\\n",
      "0    78.1821  404.083   807.96  272.5183  574.62   859.11  148.69  5992.90   \n",
      "1    91.5556  491.760   889.15  312.2238  707.79   844.07  266.10  7576.03   \n",
      "2    94.9546  322.180  1039.74  389.1938  760.43   751.79  275.44  7326.52   \n",
      "3    92.2491  514.060   958.12  314.8038  708.97   770.85  264.32  7580.27   \n",
      "4    71.7421  677.300   818.44  250.1857  606.48  1019.33  190.94  6252.12   \n",
      "..       ...      ...      ...       ...     ...      ...     ...      ...   \n",
      "784  75.9537  488.770  1529.99  315.3888  486.19   612.38  286.13  5350.72   \n",
      "785  80.1453  447.400  1571.24  301.0200  434.23   611.24  288.83  5353.28   \n",
      "786  24.7485  507.540  1643.29  297.4388  535.02   642.96  314.32  5352.57   \n",
      "787  76.8873  374.680  1698.38  223.0000  453.04   644.39  315.06  5375.89   \n",
      "788  77.5379  304.730  1721.79  200.0000  441.16   635.62  310.12  5305.12   \n",
      "\n",
      "       Cu     Zn  \n",
      "0    28.0  15.43  \n",
      "1    23.0  19.94  \n",
      "2    30.0  22.47  \n",
      "3    27.0  20.07  \n",
      "4    26.0  19.44  \n",
      "..    ...    ...  \n",
      "784  27.0  17.46  \n",
      "785  25.0  17.19  \n",
      "786  21.0  18.78  \n",
      "787  27.0  18.74  \n",
      "788  23.0  18.26  \n",
      "\n",
      "[789 rows x 10 columns]\n"
     ]
    }
   ],
   "source": [
    "soil_imputed_rf = pd.DataFrame(soil_imputed_rf, columns = soil_mix_cleaned.columns)\n",
    "print(soil_imputed_rf)"
   ]
  },
  {
   "cell_type": "markdown",
   "id": "a0074753-3754-4ea9-a38d-0a1aea65809f",
   "metadata": {},
   "source": [
    "## 6. Imputation using Multiple Imputation by Chained Equations (MICE)"
   ]
  },
  {
   "cell_type": "markdown",
   "id": "3a5b6be7-2c2f-4433-b5a6-53642fdd3915",
   "metadata": {},
   "source": [
    "### MICE imputation with a BayesianRidge model as an estimator"
   ]
  },
  {
   "cell_type": "code",
   "execution_count": 49,
   "id": "114338cf-0bf1-4d2a-8a09-03c126ad3c62",
   "metadata": {},
   "outputs": [
    {
     "name": "stdout",
     "output_type": "stream",
     "text": [
      "             B          Mg        P           S       K       Ca      Mn  \\\n",
      "0    35.430337  412.709634   807.96  286.425832  574.62   859.11  148.69   \n",
      "1    41.096779  491.760000   889.15  255.279353  707.79   844.07  266.10   \n",
      "2    45.009479  322.180000  1039.74  322.468911  760.43   751.79  275.44   \n",
      "3    41.957018  514.060000   958.12  273.057413  708.97   770.85  264.32   \n",
      "4    33.456667  677.300000   818.44  243.097983  606.48  1019.33  190.94   \n",
      "..         ...         ...      ...         ...     ...      ...     ...   \n",
      "784  27.148686  488.770000  1529.99  242.272562  486.19   612.38  286.13   \n",
      "785  25.897144  447.400000  1571.24  234.818174  434.23   611.24  288.83   \n",
      "786  25.591342  507.540000  1643.29  204.237060  535.02   642.96  314.32   \n",
      "787  25.605732  374.680000  1698.38  223.000000  453.04   644.39  315.06   \n",
      "788  24.119592  304.730000  1721.79  200.000000  441.16   635.62  310.12   \n",
      "\n",
      "          Fe    Cu     Zn  \n",
      "0    5992.90  28.0  15.43  \n",
      "1    7576.03  23.0  19.94  \n",
      "2    7326.52  30.0  22.47  \n",
      "3    7580.27  27.0  20.07  \n",
      "4    6252.12  26.0  19.44  \n",
      "..       ...   ...    ...  \n",
      "784  5350.72  27.0  17.46  \n",
      "785  5353.28  25.0  17.19  \n",
      "786  5352.57  21.0  18.78  \n",
      "787  5375.89  27.0  18.74  \n",
      "788  5305.12  23.0  18.26  \n",
      "\n",
      "[789 rows x 10 columns]\n"
     ]
    }
   ],
   "source": [
    "imputer_mice = IterativeImputer(estimator = BayesianRidge(), max_iter = 10, random_state = 4)\n",
    "soil_imputed_mice = imputer_mice.fit_transform(soil_mix_cleaned)\n",
    "soil_imputed_mice = pd.DataFrame(soil_imputed_mice, columns = soil_mix_cleaned.columns)\n",
    "print(soil_imputed_mice)"
   ]
  }
 ],
 "metadata": {
  "kernelspec": {
   "display_name": "Python 3 (ipykernel)",
   "language": "python",
   "name": "python3"
  },
  "language_info": {
   "codemirror_mode": {
    "name": "ipython",
    "version": 3
   },
   "file_extension": ".py",
   "mimetype": "text/x-python",
   "name": "python",
   "nbconvert_exporter": "python",
   "pygments_lexer": "ipython3",
   "version": "3.11.7"
  }
 },
 "nbformat": 4,
 "nbformat_minor": 5
}
